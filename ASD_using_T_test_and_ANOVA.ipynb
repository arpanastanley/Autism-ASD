{
  "nbformat": 4,
  "nbformat_minor": 0,
  "metadata": {
    "colab": {
      "provenance": [],
      "mount_file_id": "1rg7fo8JvfdRWZhU8U3pvG1K5JAYhE7Ds",
      "authorship_tag": "ABX9TyP0Q/zpu8tYfRMaTp+lo8ue",
      "include_colab_link": true
    },
    "kernelspec": {
      "name": "python3",
      "display_name": "Python 3"
    },
    "language_info": {
      "name": "python"
    }
  },
  "cells": [
    {
      "cell_type": "markdown",
      "metadata": {
        "id": "view-in-github",
        "colab_type": "text"
      },
      "source": [
        "<a href=\"https://colab.research.google.com/github/arpanastanley/Autism-ASD/blob/main/ASD_using_T_test_and_ANOVA.ipynb\" target=\"_parent\"><img src=\"https://colab.research.google.com/assets/colab-badge.svg\" alt=\"Open In Colab\"/></a>"
      ]
    },
    {
      "cell_type": "markdown",
      "source": [
        "# **AUTISM SPECTRUM DISORDER (ASD)**\n",
        "A developmental disability caused by differences in the brain.\n",
        "\n",
        "\n",
        "### **Symptoms:**\n",
        "*difficulty with communication\n",
        "\n",
        "*difficulty with social interactions\n",
        "\n",
        "*obsessive interests\n",
        "\n",
        "*repetitive behaviours\n",
        "\n",
        "\n",
        "### **Treatment:**\n",
        "Early recognition, as well as behavioural, educational and family therapies may reduce symptoms and support development and learning.\n",
        "\n",
        "\n"
      ],
      "metadata": {
        "id": "Diz34QS7qqzX"
      }
    },
    {
      "cell_type": "code",
      "execution_count": null,
      "metadata": {
        "id": "cPFIbXPTqhFB"
      },
      "outputs": [],
      "source": [
        "#Importing the required libraries\n",
        "import pandas as pd\n",
        "import numpy as np\n",
        "import matplotlib.pyplot as plt\n",
        "import seaborn as sns"
      ]
    },
    {
      "cell_type": "code",
      "source": [
        "#Importing the dataset\n",
        "df=pd.read_csv('/content/drive/MyDrive/SFARI-Gene_genes_09-02-2021release_12-11-2021export.csv')\n",
        "df"
      ],
      "metadata": {
        "colab": {
          "base_uri": "https://localhost:8080/",
          "height": 467
        },
        "id": "v9NS2KNsqiCw",
        "outputId": "8b7cfc1a-4469-4566-8226-e9361d332a13"
      },
      "execution_count": null,
      "outputs": [
        {
          "output_type": "execute_result",
          "data": {
            "text/plain": [
              "      status gene-symbol                                          gene-name  \\\n",
              "0          9        ABAT                   4-aminobutyrate aminotransferase   \n",
              "1          9      ABCA10  ATP-binding cassette, sub-family A (ABC1), mem...   \n",
              "2          9      ABCA13         ATP binding cassette subfamily A member 13   \n",
              "3          9       ABCA7  ATP-binding cassette, sub-family A (ABC1), mem...   \n",
              "4          9         ACE                    angiotensin I converting enzyme   \n",
              "...      ...         ...                                                ...   \n",
              "1018       9       ZMYM2                  zinc finger MYM-type containing 2   \n",
              "1019       9      ZMYND8                 zinc finger MYND-type containing 8   \n",
              "1020       9      ZNF827                            Zinc finger protein 827   \n",
              "1021       9      ZSWIM6                 zinc finger SWIM-type containing 6   \n",
              "1022       9      ZWILCH                          zwilchkinetochore protein   \n",
              "\n",
              "           ensembl-id chromosome  \\\n",
              "0     ENSG00000183044         16   \n",
              "1     ENSG00000154263         17   \n",
              "2     ENSG00000179869          7   \n",
              "3     ENSG00000064687         19   \n",
              "4     ENSG00000159640         17   \n",
              "...               ...        ...   \n",
              "1018  ENSG00000121741         13   \n",
              "1019  ENSG00000101040         20   \n",
              "1020  ENSG00000151612          4   \n",
              "1021  ENSG00000130449          5   \n",
              "1022  ENSG00000174442         15   \n",
              "\n",
              "                                    genetic-category  gene-score  syndromic  \\\n",
              "0     Rare Single Gene Mutation, Genetic Association         3.0          0   \n",
              "1                          Rare Single Gene Mutation         3.0          0   \n",
              "2              Rare Single Gene Mutation, Functional         3.0          0   \n",
              "3                          Rare Single Gene Mutation         3.0          0   \n",
              "4     Rare Single Gene Mutation, Genetic Association         3.0          0   \n",
              "...                                              ...         ...        ...   \n",
              "1018            Rare Single Gene Mutation, Syndromic         2.0          1   \n",
              "1019                       Rare Single Gene Mutation         1.0          0   \n",
              "1020                             Genetic Association         3.0          0   \n",
              "1021                  Syndromic, Genetic Association         NaN          1   \n",
              "1022                       Rare Single Gene Mutation         3.0          0   \n",
              "\n",
              "      number-of-reports  \n",
              "0                     5  \n",
              "1                     1  \n",
              "2                     6  \n",
              "3                     4  \n",
              "4                     3  \n",
              "...                 ...  \n",
              "1018                  6  \n",
              "1019                  4  \n",
              "1020                  1  \n",
              "1021                  3  \n",
              "1022                  4  \n",
              "\n",
              "[1023 rows x 9 columns]"
            ],
            "text/html": [
              "\n",
              "  <div id=\"df-8e4ab230-91f0-41e0-a073-d49db9f1dbad\">\n",
              "    <div class=\"colab-df-container\">\n",
              "      <div>\n",
              "<style scoped>\n",
              "    .dataframe tbody tr th:only-of-type {\n",
              "        vertical-align: middle;\n",
              "    }\n",
              "\n",
              "    .dataframe tbody tr th {\n",
              "        vertical-align: top;\n",
              "    }\n",
              "\n",
              "    .dataframe thead th {\n",
              "        text-align: right;\n",
              "    }\n",
              "</style>\n",
              "<table border=\"1\" class=\"dataframe\">\n",
              "  <thead>\n",
              "    <tr style=\"text-align: right;\">\n",
              "      <th></th>\n",
              "      <th>status</th>\n",
              "      <th>gene-symbol</th>\n",
              "      <th>gene-name</th>\n",
              "      <th>ensembl-id</th>\n",
              "      <th>chromosome</th>\n",
              "      <th>genetic-category</th>\n",
              "      <th>gene-score</th>\n",
              "      <th>syndromic</th>\n",
              "      <th>number-of-reports</th>\n",
              "    </tr>\n",
              "  </thead>\n",
              "  <tbody>\n",
              "    <tr>\n",
              "      <th>0</th>\n",
              "      <td>9</td>\n",
              "      <td>ABAT</td>\n",
              "      <td>4-aminobutyrate aminotransferase</td>\n",
              "      <td>ENSG00000183044</td>\n",
              "      <td>16</td>\n",
              "      <td>Rare Single Gene Mutation, Genetic Association</td>\n",
              "      <td>3.0</td>\n",
              "      <td>0</td>\n",
              "      <td>5</td>\n",
              "    </tr>\n",
              "    <tr>\n",
              "      <th>1</th>\n",
              "      <td>9</td>\n",
              "      <td>ABCA10</td>\n",
              "      <td>ATP-binding cassette, sub-family A (ABC1), mem...</td>\n",
              "      <td>ENSG00000154263</td>\n",
              "      <td>17</td>\n",
              "      <td>Rare Single Gene Mutation</td>\n",
              "      <td>3.0</td>\n",
              "      <td>0</td>\n",
              "      <td>1</td>\n",
              "    </tr>\n",
              "    <tr>\n",
              "      <th>2</th>\n",
              "      <td>9</td>\n",
              "      <td>ABCA13</td>\n",
              "      <td>ATP binding cassette subfamily A member 13</td>\n",
              "      <td>ENSG00000179869</td>\n",
              "      <td>7</td>\n",
              "      <td>Rare Single Gene Mutation, Functional</td>\n",
              "      <td>3.0</td>\n",
              "      <td>0</td>\n",
              "      <td>6</td>\n",
              "    </tr>\n",
              "    <tr>\n",
              "      <th>3</th>\n",
              "      <td>9</td>\n",
              "      <td>ABCA7</td>\n",
              "      <td>ATP-binding cassette, sub-family A (ABC1), mem...</td>\n",
              "      <td>ENSG00000064687</td>\n",
              "      <td>19</td>\n",
              "      <td>Rare Single Gene Mutation</td>\n",
              "      <td>3.0</td>\n",
              "      <td>0</td>\n",
              "      <td>4</td>\n",
              "    </tr>\n",
              "    <tr>\n",
              "      <th>4</th>\n",
              "      <td>9</td>\n",
              "      <td>ACE</td>\n",
              "      <td>angiotensin I converting enzyme</td>\n",
              "      <td>ENSG00000159640</td>\n",
              "      <td>17</td>\n",
              "      <td>Rare Single Gene Mutation, Genetic Association</td>\n",
              "      <td>3.0</td>\n",
              "      <td>0</td>\n",
              "      <td>3</td>\n",
              "    </tr>\n",
              "    <tr>\n",
              "      <th>...</th>\n",
              "      <td>...</td>\n",
              "      <td>...</td>\n",
              "      <td>...</td>\n",
              "      <td>...</td>\n",
              "      <td>...</td>\n",
              "      <td>...</td>\n",
              "      <td>...</td>\n",
              "      <td>...</td>\n",
              "      <td>...</td>\n",
              "    </tr>\n",
              "    <tr>\n",
              "      <th>1018</th>\n",
              "      <td>9</td>\n",
              "      <td>ZMYM2</td>\n",
              "      <td>zinc finger MYM-type containing 2</td>\n",
              "      <td>ENSG00000121741</td>\n",
              "      <td>13</td>\n",
              "      <td>Rare Single Gene Mutation, Syndromic</td>\n",
              "      <td>2.0</td>\n",
              "      <td>1</td>\n",
              "      <td>6</td>\n",
              "    </tr>\n",
              "    <tr>\n",
              "      <th>1019</th>\n",
              "      <td>9</td>\n",
              "      <td>ZMYND8</td>\n",
              "      <td>zinc finger MYND-type containing 8</td>\n",
              "      <td>ENSG00000101040</td>\n",
              "      <td>20</td>\n",
              "      <td>Rare Single Gene Mutation</td>\n",
              "      <td>1.0</td>\n",
              "      <td>0</td>\n",
              "      <td>4</td>\n",
              "    </tr>\n",
              "    <tr>\n",
              "      <th>1020</th>\n",
              "      <td>9</td>\n",
              "      <td>ZNF827</td>\n",
              "      <td>Zinc finger protein 827</td>\n",
              "      <td>ENSG00000151612</td>\n",
              "      <td>4</td>\n",
              "      <td>Genetic Association</td>\n",
              "      <td>3.0</td>\n",
              "      <td>0</td>\n",
              "      <td>1</td>\n",
              "    </tr>\n",
              "    <tr>\n",
              "      <th>1021</th>\n",
              "      <td>9</td>\n",
              "      <td>ZSWIM6</td>\n",
              "      <td>zinc finger SWIM-type containing 6</td>\n",
              "      <td>ENSG00000130449</td>\n",
              "      <td>5</td>\n",
              "      <td>Syndromic, Genetic Association</td>\n",
              "      <td>NaN</td>\n",
              "      <td>1</td>\n",
              "      <td>3</td>\n",
              "    </tr>\n",
              "    <tr>\n",
              "      <th>1022</th>\n",
              "      <td>9</td>\n",
              "      <td>ZWILCH</td>\n",
              "      <td>zwilchkinetochore protein</td>\n",
              "      <td>ENSG00000174442</td>\n",
              "      <td>15</td>\n",
              "      <td>Rare Single Gene Mutation</td>\n",
              "      <td>3.0</td>\n",
              "      <td>0</td>\n",
              "      <td>4</td>\n",
              "    </tr>\n",
              "  </tbody>\n",
              "</table>\n",
              "<p>1023 rows × 9 columns</p>\n",
              "</div>\n",
              "      <button class=\"colab-df-convert\" onclick=\"convertToInteractive('df-8e4ab230-91f0-41e0-a073-d49db9f1dbad')\"\n",
              "              title=\"Convert this dataframe to an interactive table.\"\n",
              "              style=\"display:none;\">\n",
              "        \n",
              "  <svg xmlns=\"http://www.w3.org/2000/svg\" height=\"24px\"viewBox=\"0 0 24 24\"\n",
              "       width=\"24px\">\n",
              "    <path d=\"M0 0h24v24H0V0z\" fill=\"none\"/>\n",
              "    <path d=\"M18.56 5.44l.94 2.06.94-2.06 2.06-.94-2.06-.94-.94-2.06-.94 2.06-2.06.94zm-11 1L8.5 8.5l.94-2.06 2.06-.94-2.06-.94L8.5 2.5l-.94 2.06-2.06.94zm10 10l.94 2.06.94-2.06 2.06-.94-2.06-.94-.94-2.06-.94 2.06-2.06.94z\"/><path d=\"M17.41 7.96l-1.37-1.37c-.4-.4-.92-.59-1.43-.59-.52 0-1.04.2-1.43.59L10.3 9.45l-7.72 7.72c-.78.78-.78 2.05 0 2.83L4 21.41c.39.39.9.59 1.41.59.51 0 1.02-.2 1.41-.59l7.78-7.78 2.81-2.81c.8-.78.8-2.07 0-2.86zM5.41 20L4 18.59l7.72-7.72 1.47 1.35L5.41 20z\"/>\n",
              "  </svg>\n",
              "      </button>\n",
              "      \n",
              "  <style>\n",
              "    .colab-df-container {\n",
              "      display:flex;\n",
              "      flex-wrap:wrap;\n",
              "      gap: 12px;\n",
              "    }\n",
              "\n",
              "    .colab-df-convert {\n",
              "      background-color: #E8F0FE;\n",
              "      border: none;\n",
              "      border-radius: 50%;\n",
              "      cursor: pointer;\n",
              "      display: none;\n",
              "      fill: #1967D2;\n",
              "      height: 32px;\n",
              "      padding: 0 0 0 0;\n",
              "      width: 32px;\n",
              "    }\n",
              "\n",
              "    .colab-df-convert:hover {\n",
              "      background-color: #E2EBFA;\n",
              "      box-shadow: 0px 1px 2px rgba(60, 64, 67, 0.3), 0px 1px 3px 1px rgba(60, 64, 67, 0.15);\n",
              "      fill: #174EA6;\n",
              "    }\n",
              "\n",
              "    [theme=dark] .colab-df-convert {\n",
              "      background-color: #3B4455;\n",
              "      fill: #D2E3FC;\n",
              "    }\n",
              "\n",
              "    [theme=dark] .colab-df-convert:hover {\n",
              "      background-color: #434B5C;\n",
              "      box-shadow: 0px 1px 3px 1px rgba(0, 0, 0, 0.15);\n",
              "      filter: drop-shadow(0px 1px 2px rgba(0, 0, 0, 0.3));\n",
              "      fill: #FFFFFF;\n",
              "    }\n",
              "  </style>\n",
              "\n",
              "      <script>\n",
              "        const buttonEl =\n",
              "          document.querySelector('#df-8e4ab230-91f0-41e0-a073-d49db9f1dbad button.colab-df-convert');\n",
              "        buttonEl.style.display =\n",
              "          google.colab.kernel.accessAllowed ? 'block' : 'none';\n",
              "\n",
              "        async function convertToInteractive(key) {\n",
              "          const element = document.querySelector('#df-8e4ab230-91f0-41e0-a073-d49db9f1dbad');\n",
              "          const dataTable =\n",
              "            await google.colab.kernel.invokeFunction('convertToInteractive',\n",
              "                                                     [key], {});\n",
              "          if (!dataTable) return;\n",
              "\n",
              "          const docLinkHtml = 'Like what you see? Visit the ' +\n",
              "            '<a target=\"_blank\" href=https://colab.research.google.com/notebooks/data_table.ipynb>data table notebook</a>'\n",
              "            + ' to learn more about interactive tables.';\n",
              "          element.innerHTML = '';\n",
              "          dataTable['output_type'] = 'display_data';\n",
              "          await google.colab.output.renderOutput(dataTable, element);\n",
              "          const docLink = document.createElement('div');\n",
              "          docLink.innerHTML = docLinkHtml;\n",
              "          element.appendChild(docLink);\n",
              "        }\n",
              "      </script>\n",
              "    </div>\n",
              "  </div>\n",
              "  "
            ]
          },
          "metadata": {},
          "execution_count": 43
        }
      ]
    },
    {
      "cell_type": "markdown",
      "source": [
        "# **BASIC PREPROCESSING**"
      ],
      "metadata": {
        "id": "qLiQ4pVRvO0_"
      }
    },
    {
      "cell_type": "code",
      "source": [
        "df.head()"
      ],
      "metadata": {
        "colab": {
          "base_uri": "https://localhost:8080/",
          "height": 250
        },
        "id": "4y7gEJnjqiEn",
        "outputId": "95c0ae3a-2c1a-4586-b888-35f09696bafb"
      },
      "execution_count": null,
      "outputs": [
        {
          "output_type": "execute_result",
          "data": {
            "text/plain": [
              "   status gene-symbol                                          gene-name  \\\n",
              "0       9        ABAT                   4-aminobutyrate aminotransferase   \n",
              "1       9      ABCA10  ATP-binding cassette, sub-family A (ABC1), mem...   \n",
              "2       9      ABCA13         ATP binding cassette subfamily A member 13   \n",
              "3       9       ABCA7  ATP-binding cassette, sub-family A (ABC1), mem...   \n",
              "4       9         ACE                    angiotensin I converting enzyme   \n",
              "\n",
              "        ensembl-id chromosome                                genetic-category  \\\n",
              "0  ENSG00000183044         16  Rare Single Gene Mutation, Genetic Association   \n",
              "1  ENSG00000154263         17                       Rare Single Gene Mutation   \n",
              "2  ENSG00000179869          7           Rare Single Gene Mutation, Functional   \n",
              "3  ENSG00000064687         19                       Rare Single Gene Mutation   \n",
              "4  ENSG00000159640         17  Rare Single Gene Mutation, Genetic Association   \n",
              "\n",
              "   gene-score  syndromic  number-of-reports  \n",
              "0         3.0          0                  5  \n",
              "1         3.0          0                  1  \n",
              "2         3.0          0                  6  \n",
              "3         3.0          0                  4  \n",
              "4         3.0          0                  3  "
            ],
            "text/html": [
              "\n",
              "  <div id=\"df-d471e711-1437-4dab-804b-6ea771161e53\">\n",
              "    <div class=\"colab-df-container\">\n",
              "      <div>\n",
              "<style scoped>\n",
              "    .dataframe tbody tr th:only-of-type {\n",
              "        vertical-align: middle;\n",
              "    }\n",
              "\n",
              "    .dataframe tbody tr th {\n",
              "        vertical-align: top;\n",
              "    }\n",
              "\n",
              "    .dataframe thead th {\n",
              "        text-align: right;\n",
              "    }\n",
              "</style>\n",
              "<table border=\"1\" class=\"dataframe\">\n",
              "  <thead>\n",
              "    <tr style=\"text-align: right;\">\n",
              "      <th></th>\n",
              "      <th>status</th>\n",
              "      <th>gene-symbol</th>\n",
              "      <th>gene-name</th>\n",
              "      <th>ensembl-id</th>\n",
              "      <th>chromosome</th>\n",
              "      <th>genetic-category</th>\n",
              "      <th>gene-score</th>\n",
              "      <th>syndromic</th>\n",
              "      <th>number-of-reports</th>\n",
              "    </tr>\n",
              "  </thead>\n",
              "  <tbody>\n",
              "    <tr>\n",
              "      <th>0</th>\n",
              "      <td>9</td>\n",
              "      <td>ABAT</td>\n",
              "      <td>4-aminobutyrate aminotransferase</td>\n",
              "      <td>ENSG00000183044</td>\n",
              "      <td>16</td>\n",
              "      <td>Rare Single Gene Mutation, Genetic Association</td>\n",
              "      <td>3.0</td>\n",
              "      <td>0</td>\n",
              "      <td>5</td>\n",
              "    </tr>\n",
              "    <tr>\n",
              "      <th>1</th>\n",
              "      <td>9</td>\n",
              "      <td>ABCA10</td>\n",
              "      <td>ATP-binding cassette, sub-family A (ABC1), mem...</td>\n",
              "      <td>ENSG00000154263</td>\n",
              "      <td>17</td>\n",
              "      <td>Rare Single Gene Mutation</td>\n",
              "      <td>3.0</td>\n",
              "      <td>0</td>\n",
              "      <td>1</td>\n",
              "    </tr>\n",
              "    <tr>\n",
              "      <th>2</th>\n",
              "      <td>9</td>\n",
              "      <td>ABCA13</td>\n",
              "      <td>ATP binding cassette subfamily A member 13</td>\n",
              "      <td>ENSG00000179869</td>\n",
              "      <td>7</td>\n",
              "      <td>Rare Single Gene Mutation, Functional</td>\n",
              "      <td>3.0</td>\n",
              "      <td>0</td>\n",
              "      <td>6</td>\n",
              "    </tr>\n",
              "    <tr>\n",
              "      <th>3</th>\n",
              "      <td>9</td>\n",
              "      <td>ABCA7</td>\n",
              "      <td>ATP-binding cassette, sub-family A (ABC1), mem...</td>\n",
              "      <td>ENSG00000064687</td>\n",
              "      <td>19</td>\n",
              "      <td>Rare Single Gene Mutation</td>\n",
              "      <td>3.0</td>\n",
              "      <td>0</td>\n",
              "      <td>4</td>\n",
              "    </tr>\n",
              "    <tr>\n",
              "      <th>4</th>\n",
              "      <td>9</td>\n",
              "      <td>ACE</td>\n",
              "      <td>angiotensin I converting enzyme</td>\n",
              "      <td>ENSG00000159640</td>\n",
              "      <td>17</td>\n",
              "      <td>Rare Single Gene Mutation, Genetic Association</td>\n",
              "      <td>3.0</td>\n",
              "      <td>0</td>\n",
              "      <td>3</td>\n",
              "    </tr>\n",
              "  </tbody>\n",
              "</table>\n",
              "</div>\n",
              "      <button class=\"colab-df-convert\" onclick=\"convertToInteractive('df-d471e711-1437-4dab-804b-6ea771161e53')\"\n",
              "              title=\"Convert this dataframe to an interactive table.\"\n",
              "              style=\"display:none;\">\n",
              "        \n",
              "  <svg xmlns=\"http://www.w3.org/2000/svg\" height=\"24px\"viewBox=\"0 0 24 24\"\n",
              "       width=\"24px\">\n",
              "    <path d=\"M0 0h24v24H0V0z\" fill=\"none\"/>\n",
              "    <path d=\"M18.56 5.44l.94 2.06.94-2.06 2.06-.94-2.06-.94-.94-2.06-.94 2.06-2.06.94zm-11 1L8.5 8.5l.94-2.06 2.06-.94-2.06-.94L8.5 2.5l-.94 2.06-2.06.94zm10 10l.94 2.06.94-2.06 2.06-.94-2.06-.94-.94-2.06-.94 2.06-2.06.94z\"/><path d=\"M17.41 7.96l-1.37-1.37c-.4-.4-.92-.59-1.43-.59-.52 0-1.04.2-1.43.59L10.3 9.45l-7.72 7.72c-.78.78-.78 2.05 0 2.83L4 21.41c.39.39.9.59 1.41.59.51 0 1.02-.2 1.41-.59l7.78-7.78 2.81-2.81c.8-.78.8-2.07 0-2.86zM5.41 20L4 18.59l7.72-7.72 1.47 1.35L5.41 20z\"/>\n",
              "  </svg>\n",
              "      </button>\n",
              "      \n",
              "  <style>\n",
              "    .colab-df-container {\n",
              "      display:flex;\n",
              "      flex-wrap:wrap;\n",
              "      gap: 12px;\n",
              "    }\n",
              "\n",
              "    .colab-df-convert {\n",
              "      background-color: #E8F0FE;\n",
              "      border: none;\n",
              "      border-radius: 50%;\n",
              "      cursor: pointer;\n",
              "      display: none;\n",
              "      fill: #1967D2;\n",
              "      height: 32px;\n",
              "      padding: 0 0 0 0;\n",
              "      width: 32px;\n",
              "    }\n",
              "\n",
              "    .colab-df-convert:hover {\n",
              "      background-color: #E2EBFA;\n",
              "      box-shadow: 0px 1px 2px rgba(60, 64, 67, 0.3), 0px 1px 3px 1px rgba(60, 64, 67, 0.15);\n",
              "      fill: #174EA6;\n",
              "    }\n",
              "\n",
              "    [theme=dark] .colab-df-convert {\n",
              "      background-color: #3B4455;\n",
              "      fill: #D2E3FC;\n",
              "    }\n",
              "\n",
              "    [theme=dark] .colab-df-convert:hover {\n",
              "      background-color: #434B5C;\n",
              "      box-shadow: 0px 1px 3px 1px rgba(0, 0, 0, 0.15);\n",
              "      filter: drop-shadow(0px 1px 2px rgba(0, 0, 0, 0.3));\n",
              "      fill: #FFFFFF;\n",
              "    }\n",
              "  </style>\n",
              "\n",
              "      <script>\n",
              "        const buttonEl =\n",
              "          document.querySelector('#df-d471e711-1437-4dab-804b-6ea771161e53 button.colab-df-convert');\n",
              "        buttonEl.style.display =\n",
              "          google.colab.kernel.accessAllowed ? 'block' : 'none';\n",
              "\n",
              "        async function convertToInteractive(key) {\n",
              "          const element = document.querySelector('#df-d471e711-1437-4dab-804b-6ea771161e53');\n",
              "          const dataTable =\n",
              "            await google.colab.kernel.invokeFunction('convertToInteractive',\n",
              "                                                     [key], {});\n",
              "          if (!dataTable) return;\n",
              "\n",
              "          const docLinkHtml = 'Like what you see? Visit the ' +\n",
              "            '<a target=\"_blank\" href=https://colab.research.google.com/notebooks/data_table.ipynb>data table notebook</a>'\n",
              "            + ' to learn more about interactive tables.';\n",
              "          element.innerHTML = '';\n",
              "          dataTable['output_type'] = 'display_data';\n",
              "          await google.colab.output.renderOutput(dataTable, element);\n",
              "          const docLink = document.createElement('div');\n",
              "          docLink.innerHTML = docLinkHtml;\n",
              "          element.appendChild(docLink);\n",
              "        }\n",
              "      </script>\n",
              "    </div>\n",
              "  </div>\n",
              "  "
            ]
          },
          "metadata": {},
          "execution_count": 44
        }
      ]
    },
    {
      "cell_type": "code",
      "source": [
        "df.tail(9)"
      ],
      "metadata": {
        "colab": {
          "base_uri": "https://localhost:8080/",
          "height": 331
        },
        "id": "beh_F9CdqiGy",
        "outputId": "a96fc313-0f78-447a-dc18-29dbf070419f"
      },
      "execution_count": null,
      "outputs": [
        {
          "output_type": "execute_result",
          "data": {
            "text/plain": [
              "      status gene-symbol                                          gene-name  \\\n",
              "1014       9        WWP1  WW domain containing E3 ubiquitin protein liga...   \n",
              "1015       9       XRCC6                 X-ray repair cross complementing 6   \n",
              "1016       9       YWHAG  tyrosine 3-monooxygenase/tryptophan 5-monooxyg...   \n",
              "1017       9       ZMIZ1                  zinc finger MIZ-type containing 1   \n",
              "1018       9       ZMYM2                  zinc finger MYM-type containing 2   \n",
              "1019       9      ZMYND8                 zinc finger MYND-type containing 8   \n",
              "1020       9      ZNF827                            Zinc finger protein 827   \n",
              "1021       9      ZSWIM6                 zinc finger SWIM-type containing 6   \n",
              "1022       9      ZWILCH                          zwilchkinetochore protein   \n",
              "\n",
              "           ensembl-id chromosome                      genetic-category  \\\n",
              "1014  ENSG00000123124          8             Rare Single Gene Mutation   \n",
              "1015  ENSG00000196419         22             Rare Single Gene Mutation   \n",
              "1016  ENSG00000170027          7  Rare Single Gene Mutation, Syndromic   \n",
              "1017  ENSG00000108175         10  Rare Single Gene Mutation, Syndromic   \n",
              "1018  ENSG00000121741         13  Rare Single Gene Mutation, Syndromic   \n",
              "1019  ENSG00000101040         20             Rare Single Gene Mutation   \n",
              "1020  ENSG00000151612          4                   Genetic Association   \n",
              "1021  ENSG00000130449          5        Syndromic, Genetic Association   \n",
              "1022  ENSG00000174442         15             Rare Single Gene Mutation   \n",
              "\n",
              "      gene-score  syndromic  number-of-reports  \n",
              "1014         3.0          0                  2  \n",
              "1015         3.0          0                  2  \n",
              "1016         3.0          1                  7  \n",
              "1017         2.0          1                  4  \n",
              "1018         2.0          1                  6  \n",
              "1019         1.0          0                  4  \n",
              "1020         3.0          0                  1  \n",
              "1021         NaN          1                  3  \n",
              "1022         3.0          0                  4  "
            ],
            "text/html": [
              "\n",
              "  <div id=\"df-8d956b48-45ba-4a66-8168-d796ffe60e4b\">\n",
              "    <div class=\"colab-df-container\">\n",
              "      <div>\n",
              "<style scoped>\n",
              "    .dataframe tbody tr th:only-of-type {\n",
              "        vertical-align: middle;\n",
              "    }\n",
              "\n",
              "    .dataframe tbody tr th {\n",
              "        vertical-align: top;\n",
              "    }\n",
              "\n",
              "    .dataframe thead th {\n",
              "        text-align: right;\n",
              "    }\n",
              "</style>\n",
              "<table border=\"1\" class=\"dataframe\">\n",
              "  <thead>\n",
              "    <tr style=\"text-align: right;\">\n",
              "      <th></th>\n",
              "      <th>status</th>\n",
              "      <th>gene-symbol</th>\n",
              "      <th>gene-name</th>\n",
              "      <th>ensembl-id</th>\n",
              "      <th>chromosome</th>\n",
              "      <th>genetic-category</th>\n",
              "      <th>gene-score</th>\n",
              "      <th>syndromic</th>\n",
              "      <th>number-of-reports</th>\n",
              "    </tr>\n",
              "  </thead>\n",
              "  <tbody>\n",
              "    <tr>\n",
              "      <th>1014</th>\n",
              "      <td>9</td>\n",
              "      <td>WWP1</td>\n",
              "      <td>WW domain containing E3 ubiquitin protein liga...</td>\n",
              "      <td>ENSG00000123124</td>\n",
              "      <td>8</td>\n",
              "      <td>Rare Single Gene Mutation</td>\n",
              "      <td>3.0</td>\n",
              "      <td>0</td>\n",
              "      <td>2</td>\n",
              "    </tr>\n",
              "    <tr>\n",
              "      <th>1015</th>\n",
              "      <td>9</td>\n",
              "      <td>XRCC6</td>\n",
              "      <td>X-ray repair cross complementing 6</td>\n",
              "      <td>ENSG00000196419</td>\n",
              "      <td>22</td>\n",
              "      <td>Rare Single Gene Mutation</td>\n",
              "      <td>3.0</td>\n",
              "      <td>0</td>\n",
              "      <td>2</td>\n",
              "    </tr>\n",
              "    <tr>\n",
              "      <th>1016</th>\n",
              "      <td>9</td>\n",
              "      <td>YWHAG</td>\n",
              "      <td>tyrosine 3-monooxygenase/tryptophan 5-monooxyg...</td>\n",
              "      <td>ENSG00000170027</td>\n",
              "      <td>7</td>\n",
              "      <td>Rare Single Gene Mutation, Syndromic</td>\n",
              "      <td>3.0</td>\n",
              "      <td>1</td>\n",
              "      <td>7</td>\n",
              "    </tr>\n",
              "    <tr>\n",
              "      <th>1017</th>\n",
              "      <td>9</td>\n",
              "      <td>ZMIZ1</td>\n",
              "      <td>zinc finger MIZ-type containing 1</td>\n",
              "      <td>ENSG00000108175</td>\n",
              "      <td>10</td>\n",
              "      <td>Rare Single Gene Mutation, Syndromic</td>\n",
              "      <td>2.0</td>\n",
              "      <td>1</td>\n",
              "      <td>4</td>\n",
              "    </tr>\n",
              "    <tr>\n",
              "      <th>1018</th>\n",
              "      <td>9</td>\n",
              "      <td>ZMYM2</td>\n",
              "      <td>zinc finger MYM-type containing 2</td>\n",
              "      <td>ENSG00000121741</td>\n",
              "      <td>13</td>\n",
              "      <td>Rare Single Gene Mutation, Syndromic</td>\n",
              "      <td>2.0</td>\n",
              "      <td>1</td>\n",
              "      <td>6</td>\n",
              "    </tr>\n",
              "    <tr>\n",
              "      <th>1019</th>\n",
              "      <td>9</td>\n",
              "      <td>ZMYND8</td>\n",
              "      <td>zinc finger MYND-type containing 8</td>\n",
              "      <td>ENSG00000101040</td>\n",
              "      <td>20</td>\n",
              "      <td>Rare Single Gene Mutation</td>\n",
              "      <td>1.0</td>\n",
              "      <td>0</td>\n",
              "      <td>4</td>\n",
              "    </tr>\n",
              "    <tr>\n",
              "      <th>1020</th>\n",
              "      <td>9</td>\n",
              "      <td>ZNF827</td>\n",
              "      <td>Zinc finger protein 827</td>\n",
              "      <td>ENSG00000151612</td>\n",
              "      <td>4</td>\n",
              "      <td>Genetic Association</td>\n",
              "      <td>3.0</td>\n",
              "      <td>0</td>\n",
              "      <td>1</td>\n",
              "    </tr>\n",
              "    <tr>\n",
              "      <th>1021</th>\n",
              "      <td>9</td>\n",
              "      <td>ZSWIM6</td>\n",
              "      <td>zinc finger SWIM-type containing 6</td>\n",
              "      <td>ENSG00000130449</td>\n",
              "      <td>5</td>\n",
              "      <td>Syndromic, Genetic Association</td>\n",
              "      <td>NaN</td>\n",
              "      <td>1</td>\n",
              "      <td>3</td>\n",
              "    </tr>\n",
              "    <tr>\n",
              "      <th>1022</th>\n",
              "      <td>9</td>\n",
              "      <td>ZWILCH</td>\n",
              "      <td>zwilchkinetochore protein</td>\n",
              "      <td>ENSG00000174442</td>\n",
              "      <td>15</td>\n",
              "      <td>Rare Single Gene Mutation</td>\n",
              "      <td>3.0</td>\n",
              "      <td>0</td>\n",
              "      <td>4</td>\n",
              "    </tr>\n",
              "  </tbody>\n",
              "</table>\n",
              "</div>\n",
              "      <button class=\"colab-df-convert\" onclick=\"convertToInteractive('df-8d956b48-45ba-4a66-8168-d796ffe60e4b')\"\n",
              "              title=\"Convert this dataframe to an interactive table.\"\n",
              "              style=\"display:none;\">\n",
              "        \n",
              "  <svg xmlns=\"http://www.w3.org/2000/svg\" height=\"24px\"viewBox=\"0 0 24 24\"\n",
              "       width=\"24px\">\n",
              "    <path d=\"M0 0h24v24H0V0z\" fill=\"none\"/>\n",
              "    <path d=\"M18.56 5.44l.94 2.06.94-2.06 2.06-.94-2.06-.94-.94-2.06-.94 2.06-2.06.94zm-11 1L8.5 8.5l.94-2.06 2.06-.94-2.06-.94L8.5 2.5l-.94 2.06-2.06.94zm10 10l.94 2.06.94-2.06 2.06-.94-2.06-.94-.94-2.06-.94 2.06-2.06.94z\"/><path d=\"M17.41 7.96l-1.37-1.37c-.4-.4-.92-.59-1.43-.59-.52 0-1.04.2-1.43.59L10.3 9.45l-7.72 7.72c-.78.78-.78 2.05 0 2.83L4 21.41c.39.39.9.59 1.41.59.51 0 1.02-.2 1.41-.59l7.78-7.78 2.81-2.81c.8-.78.8-2.07 0-2.86zM5.41 20L4 18.59l7.72-7.72 1.47 1.35L5.41 20z\"/>\n",
              "  </svg>\n",
              "      </button>\n",
              "      \n",
              "  <style>\n",
              "    .colab-df-container {\n",
              "      display:flex;\n",
              "      flex-wrap:wrap;\n",
              "      gap: 12px;\n",
              "    }\n",
              "\n",
              "    .colab-df-convert {\n",
              "      background-color: #E8F0FE;\n",
              "      border: none;\n",
              "      border-radius: 50%;\n",
              "      cursor: pointer;\n",
              "      display: none;\n",
              "      fill: #1967D2;\n",
              "      height: 32px;\n",
              "      padding: 0 0 0 0;\n",
              "      width: 32px;\n",
              "    }\n",
              "\n",
              "    .colab-df-convert:hover {\n",
              "      background-color: #E2EBFA;\n",
              "      box-shadow: 0px 1px 2px rgba(60, 64, 67, 0.3), 0px 1px 3px 1px rgba(60, 64, 67, 0.15);\n",
              "      fill: #174EA6;\n",
              "    }\n",
              "\n",
              "    [theme=dark] .colab-df-convert {\n",
              "      background-color: #3B4455;\n",
              "      fill: #D2E3FC;\n",
              "    }\n",
              "\n",
              "    [theme=dark] .colab-df-convert:hover {\n",
              "      background-color: #434B5C;\n",
              "      box-shadow: 0px 1px 3px 1px rgba(0, 0, 0, 0.15);\n",
              "      filter: drop-shadow(0px 1px 2px rgba(0, 0, 0, 0.3));\n",
              "      fill: #FFFFFF;\n",
              "    }\n",
              "  </style>\n",
              "\n",
              "      <script>\n",
              "        const buttonEl =\n",
              "          document.querySelector('#df-8d956b48-45ba-4a66-8168-d796ffe60e4b button.colab-df-convert');\n",
              "        buttonEl.style.display =\n",
              "          google.colab.kernel.accessAllowed ? 'block' : 'none';\n",
              "\n",
              "        async function convertToInteractive(key) {\n",
              "          const element = document.querySelector('#df-8d956b48-45ba-4a66-8168-d796ffe60e4b');\n",
              "          const dataTable =\n",
              "            await google.colab.kernel.invokeFunction('convertToInteractive',\n",
              "                                                     [key], {});\n",
              "          if (!dataTable) return;\n",
              "\n",
              "          const docLinkHtml = 'Like what you see? Visit the ' +\n",
              "            '<a target=\"_blank\" href=https://colab.research.google.com/notebooks/data_table.ipynb>data table notebook</a>'\n",
              "            + ' to learn more about interactive tables.';\n",
              "          element.innerHTML = '';\n",
              "          dataTable['output_type'] = 'display_data';\n",
              "          await google.colab.output.renderOutput(dataTable, element);\n",
              "          const docLink = document.createElement('div');\n",
              "          docLink.innerHTML = docLinkHtml;\n",
              "          element.appendChild(docLink);\n",
              "        }\n",
              "      </script>\n",
              "    </div>\n",
              "  </div>\n",
              "  "
            ]
          },
          "metadata": {},
          "execution_count": 45
        }
      ]
    },
    {
      "cell_type": "code",
      "source": [
        "df.shape"
      ],
      "metadata": {
        "colab": {
          "base_uri": "https://localhost:8080/"
        },
        "id": "bv2DlFItqiI4",
        "outputId": "04d2949e-710f-4278-d41e-fae6f4ac6f78"
      },
      "execution_count": null,
      "outputs": [
        {
          "output_type": "execute_result",
          "data": {
            "text/plain": [
              "(1023, 9)"
            ]
          },
          "metadata": {},
          "execution_count": 46
        }
      ]
    },
    {
      "cell_type": "code",
      "source": [
        "df.describe()"
      ],
      "metadata": {
        "colab": {
          "base_uri": "https://localhost:8080/",
          "height": 300
        },
        "id": "eVYZLC6WqiLB",
        "outputId": "03b7f2e2-dad8-42a1-d5ea-499ab2cce5a6"
      },
      "execution_count": null,
      "outputs": [
        {
          "output_type": "execute_result",
          "data": {
            "text/plain": [
              "       status  gene-score    syndromic  number-of-reports\n",
              "count  1023.0  942.000000  1023.000000        1023.000000\n",
              "mean      9.0    2.326964     0.224829           8.608993\n",
              "std       0.0    0.812558     0.417674          10.931901\n",
              "min       9.0    1.000000     0.000000           1.000000\n",
              "25%       9.0    2.000000     0.000000           3.000000\n",
              "50%       9.0    3.000000     0.000000           5.000000\n",
              "75%       9.0    3.000000     0.000000           9.000000\n",
              "max       9.0    3.000000     1.000000          94.000000"
            ],
            "text/html": [
              "\n",
              "  <div id=\"df-641b3133-b193-4b7f-a91b-ec4e9c9a4c03\">\n",
              "    <div class=\"colab-df-container\">\n",
              "      <div>\n",
              "<style scoped>\n",
              "    .dataframe tbody tr th:only-of-type {\n",
              "        vertical-align: middle;\n",
              "    }\n",
              "\n",
              "    .dataframe tbody tr th {\n",
              "        vertical-align: top;\n",
              "    }\n",
              "\n",
              "    .dataframe thead th {\n",
              "        text-align: right;\n",
              "    }\n",
              "</style>\n",
              "<table border=\"1\" class=\"dataframe\">\n",
              "  <thead>\n",
              "    <tr style=\"text-align: right;\">\n",
              "      <th></th>\n",
              "      <th>status</th>\n",
              "      <th>gene-score</th>\n",
              "      <th>syndromic</th>\n",
              "      <th>number-of-reports</th>\n",
              "    </tr>\n",
              "  </thead>\n",
              "  <tbody>\n",
              "    <tr>\n",
              "      <th>count</th>\n",
              "      <td>1023.0</td>\n",
              "      <td>942.000000</td>\n",
              "      <td>1023.000000</td>\n",
              "      <td>1023.000000</td>\n",
              "    </tr>\n",
              "    <tr>\n",
              "      <th>mean</th>\n",
              "      <td>9.0</td>\n",
              "      <td>2.326964</td>\n",
              "      <td>0.224829</td>\n",
              "      <td>8.608993</td>\n",
              "    </tr>\n",
              "    <tr>\n",
              "      <th>std</th>\n",
              "      <td>0.0</td>\n",
              "      <td>0.812558</td>\n",
              "      <td>0.417674</td>\n",
              "      <td>10.931901</td>\n",
              "    </tr>\n",
              "    <tr>\n",
              "      <th>min</th>\n",
              "      <td>9.0</td>\n",
              "      <td>1.000000</td>\n",
              "      <td>0.000000</td>\n",
              "      <td>1.000000</td>\n",
              "    </tr>\n",
              "    <tr>\n",
              "      <th>25%</th>\n",
              "      <td>9.0</td>\n",
              "      <td>2.000000</td>\n",
              "      <td>0.000000</td>\n",
              "      <td>3.000000</td>\n",
              "    </tr>\n",
              "    <tr>\n",
              "      <th>50%</th>\n",
              "      <td>9.0</td>\n",
              "      <td>3.000000</td>\n",
              "      <td>0.000000</td>\n",
              "      <td>5.000000</td>\n",
              "    </tr>\n",
              "    <tr>\n",
              "      <th>75%</th>\n",
              "      <td>9.0</td>\n",
              "      <td>3.000000</td>\n",
              "      <td>0.000000</td>\n",
              "      <td>9.000000</td>\n",
              "    </tr>\n",
              "    <tr>\n",
              "      <th>max</th>\n",
              "      <td>9.0</td>\n",
              "      <td>3.000000</td>\n",
              "      <td>1.000000</td>\n",
              "      <td>94.000000</td>\n",
              "    </tr>\n",
              "  </tbody>\n",
              "</table>\n",
              "</div>\n",
              "      <button class=\"colab-df-convert\" onclick=\"convertToInteractive('df-641b3133-b193-4b7f-a91b-ec4e9c9a4c03')\"\n",
              "              title=\"Convert this dataframe to an interactive table.\"\n",
              "              style=\"display:none;\">\n",
              "        \n",
              "  <svg xmlns=\"http://www.w3.org/2000/svg\" height=\"24px\"viewBox=\"0 0 24 24\"\n",
              "       width=\"24px\">\n",
              "    <path d=\"M0 0h24v24H0V0z\" fill=\"none\"/>\n",
              "    <path d=\"M18.56 5.44l.94 2.06.94-2.06 2.06-.94-2.06-.94-.94-2.06-.94 2.06-2.06.94zm-11 1L8.5 8.5l.94-2.06 2.06-.94-2.06-.94L8.5 2.5l-.94 2.06-2.06.94zm10 10l.94 2.06.94-2.06 2.06-.94-2.06-.94-.94-2.06-.94 2.06-2.06.94z\"/><path d=\"M17.41 7.96l-1.37-1.37c-.4-.4-.92-.59-1.43-.59-.52 0-1.04.2-1.43.59L10.3 9.45l-7.72 7.72c-.78.78-.78 2.05 0 2.83L4 21.41c.39.39.9.59 1.41.59.51 0 1.02-.2 1.41-.59l7.78-7.78 2.81-2.81c.8-.78.8-2.07 0-2.86zM5.41 20L4 18.59l7.72-7.72 1.47 1.35L5.41 20z\"/>\n",
              "  </svg>\n",
              "      </button>\n",
              "      \n",
              "  <style>\n",
              "    .colab-df-container {\n",
              "      display:flex;\n",
              "      flex-wrap:wrap;\n",
              "      gap: 12px;\n",
              "    }\n",
              "\n",
              "    .colab-df-convert {\n",
              "      background-color: #E8F0FE;\n",
              "      border: none;\n",
              "      border-radius: 50%;\n",
              "      cursor: pointer;\n",
              "      display: none;\n",
              "      fill: #1967D2;\n",
              "      height: 32px;\n",
              "      padding: 0 0 0 0;\n",
              "      width: 32px;\n",
              "    }\n",
              "\n",
              "    .colab-df-convert:hover {\n",
              "      background-color: #E2EBFA;\n",
              "      box-shadow: 0px 1px 2px rgba(60, 64, 67, 0.3), 0px 1px 3px 1px rgba(60, 64, 67, 0.15);\n",
              "      fill: #174EA6;\n",
              "    }\n",
              "\n",
              "    [theme=dark] .colab-df-convert {\n",
              "      background-color: #3B4455;\n",
              "      fill: #D2E3FC;\n",
              "    }\n",
              "\n",
              "    [theme=dark] .colab-df-convert:hover {\n",
              "      background-color: #434B5C;\n",
              "      box-shadow: 0px 1px 3px 1px rgba(0, 0, 0, 0.15);\n",
              "      filter: drop-shadow(0px 1px 2px rgba(0, 0, 0, 0.3));\n",
              "      fill: #FFFFFF;\n",
              "    }\n",
              "  </style>\n",
              "\n",
              "      <script>\n",
              "        const buttonEl =\n",
              "          document.querySelector('#df-641b3133-b193-4b7f-a91b-ec4e9c9a4c03 button.colab-df-convert');\n",
              "        buttonEl.style.display =\n",
              "          google.colab.kernel.accessAllowed ? 'block' : 'none';\n",
              "\n",
              "        async function convertToInteractive(key) {\n",
              "          const element = document.querySelector('#df-641b3133-b193-4b7f-a91b-ec4e9c9a4c03');\n",
              "          const dataTable =\n",
              "            await google.colab.kernel.invokeFunction('convertToInteractive',\n",
              "                                                     [key], {});\n",
              "          if (!dataTable) return;\n",
              "\n",
              "          const docLinkHtml = 'Like what you see? Visit the ' +\n",
              "            '<a target=\"_blank\" href=https://colab.research.google.com/notebooks/data_table.ipynb>data table notebook</a>'\n",
              "            + ' to learn more about interactive tables.';\n",
              "          element.innerHTML = '';\n",
              "          dataTable['output_type'] = 'display_data';\n",
              "          await google.colab.output.renderOutput(dataTable, element);\n",
              "          const docLink = document.createElement('div');\n",
              "          docLink.innerHTML = docLinkHtml;\n",
              "          element.appendChild(docLink);\n",
              "        }\n",
              "      </script>\n",
              "    </div>\n",
              "  </div>\n",
              "  "
            ]
          },
          "metadata": {},
          "execution_count": 47
        }
      ]
    },
    {
      "cell_type": "code",
      "source": [
        "df.info()"
      ],
      "metadata": {
        "colab": {
          "base_uri": "https://localhost:8080/"
        },
        "id": "H_luTaFcqiNG",
        "outputId": "e15185a6-d75e-44bf-97bc-9e2365efb492"
      },
      "execution_count": null,
      "outputs": [
        {
          "output_type": "stream",
          "name": "stdout",
          "text": [
            "<class 'pandas.core.frame.DataFrame'>\n",
            "RangeIndex: 1023 entries, 0 to 1022\n",
            "Data columns (total 9 columns):\n",
            " #   Column             Non-Null Count  Dtype  \n",
            "---  ------             --------------  -----  \n",
            " 0   status             1023 non-null   int64  \n",
            " 1   gene-symbol        1023 non-null   object \n",
            " 2   gene-name          1022 non-null   object \n",
            " 3   ensembl-id         1010 non-null   object \n",
            " 4   chromosome         1023 non-null   object \n",
            " 5   genetic-category   1021 non-null   object \n",
            " 6   gene-score         942 non-null    float64\n",
            " 7   syndromic          1023 non-null   int64  \n",
            " 8   number-of-reports  1023 non-null   int64  \n",
            "dtypes: float64(1), int64(3), object(5)\n",
            "memory usage: 72.1+ KB\n"
          ]
        }
      ]
    },
    {
      "cell_type": "code",
      "source": [
        "#checking for missing values\n",
        "df.isna().sum()"
      ],
      "metadata": {
        "colab": {
          "base_uri": "https://localhost:8080/"
        },
        "id": "FDoKtySwrHII",
        "outputId": "8f0bd345-6d91-4d96-d064-921816c9a703"
      },
      "execution_count": null,
      "outputs": [
        {
          "output_type": "execute_result",
          "data": {
            "text/plain": [
              "status                0\n",
              "gene-symbol           0\n",
              "gene-name             1\n",
              "ensembl-id           13\n",
              "chromosome            0\n",
              "genetic-category      2\n",
              "gene-score           81\n",
              "syndromic             0\n",
              "number-of-reports     0\n",
              "dtype: int64"
            ]
          },
          "metadata": {},
          "execution_count": 49
        }
      ]
    },
    {
      "cell_type": "code",
      "source": [
        "#Dropping off two features \n",
        "#The feature 'gene-symbol' is dropped as 'gene-name' abbreviates 'gene-symbol'\n",
        "#The feature 'ensembl-id' is dropped as 'gene-name' represents 'ensembl-id'\n",
        "data=df.drop(columns=['gene-symbol','ensembl-id'])\n",
        "data"
      ],
      "metadata": {
        "colab": {
          "base_uri": "https://localhost:8080/",
          "height": 423
        },
        "id": "5njfIP_0rHKR",
        "outputId": "396a0b8b-f2c5-486e-8c98-475ca86936d1"
      },
      "execution_count": null,
      "outputs": [
        {
          "output_type": "execute_result",
          "data": {
            "text/plain": [
              "      status                                          gene-name chromosome  \\\n",
              "0          9                   4-aminobutyrate aminotransferase         16   \n",
              "1          9  ATP-binding cassette, sub-family A (ABC1), mem...         17   \n",
              "2          9         ATP binding cassette subfamily A member 13          7   \n",
              "3          9  ATP-binding cassette, sub-family A (ABC1), mem...         19   \n",
              "4          9                    angiotensin I converting enzyme         17   \n",
              "...      ...                                                ...        ...   \n",
              "1018       9                  zinc finger MYM-type containing 2         13   \n",
              "1019       9                 zinc finger MYND-type containing 8         20   \n",
              "1020       9                            Zinc finger protein 827          4   \n",
              "1021       9                 zinc finger SWIM-type containing 6          5   \n",
              "1022       9                          zwilchkinetochore protein         15   \n",
              "\n",
              "                                    genetic-category  gene-score  syndromic  \\\n",
              "0     Rare Single Gene Mutation, Genetic Association         3.0          0   \n",
              "1                          Rare Single Gene Mutation         3.0          0   \n",
              "2              Rare Single Gene Mutation, Functional         3.0          0   \n",
              "3                          Rare Single Gene Mutation         3.0          0   \n",
              "4     Rare Single Gene Mutation, Genetic Association         3.0          0   \n",
              "...                                              ...         ...        ...   \n",
              "1018            Rare Single Gene Mutation, Syndromic         2.0          1   \n",
              "1019                       Rare Single Gene Mutation         1.0          0   \n",
              "1020                             Genetic Association         3.0          0   \n",
              "1021                  Syndromic, Genetic Association         NaN          1   \n",
              "1022                       Rare Single Gene Mutation         3.0          0   \n",
              "\n",
              "      number-of-reports  \n",
              "0                     5  \n",
              "1                     1  \n",
              "2                     6  \n",
              "3                     4  \n",
              "4                     3  \n",
              "...                 ...  \n",
              "1018                  6  \n",
              "1019                  4  \n",
              "1020                  1  \n",
              "1021                  3  \n",
              "1022                  4  \n",
              "\n",
              "[1023 rows x 7 columns]"
            ],
            "text/html": [
              "\n",
              "  <div id=\"df-67eb3ade-323e-499f-98b2-32d582944737\">\n",
              "    <div class=\"colab-df-container\">\n",
              "      <div>\n",
              "<style scoped>\n",
              "    .dataframe tbody tr th:only-of-type {\n",
              "        vertical-align: middle;\n",
              "    }\n",
              "\n",
              "    .dataframe tbody tr th {\n",
              "        vertical-align: top;\n",
              "    }\n",
              "\n",
              "    .dataframe thead th {\n",
              "        text-align: right;\n",
              "    }\n",
              "</style>\n",
              "<table border=\"1\" class=\"dataframe\">\n",
              "  <thead>\n",
              "    <tr style=\"text-align: right;\">\n",
              "      <th></th>\n",
              "      <th>status</th>\n",
              "      <th>gene-name</th>\n",
              "      <th>chromosome</th>\n",
              "      <th>genetic-category</th>\n",
              "      <th>gene-score</th>\n",
              "      <th>syndromic</th>\n",
              "      <th>number-of-reports</th>\n",
              "    </tr>\n",
              "  </thead>\n",
              "  <tbody>\n",
              "    <tr>\n",
              "      <th>0</th>\n",
              "      <td>9</td>\n",
              "      <td>4-aminobutyrate aminotransferase</td>\n",
              "      <td>16</td>\n",
              "      <td>Rare Single Gene Mutation, Genetic Association</td>\n",
              "      <td>3.0</td>\n",
              "      <td>0</td>\n",
              "      <td>5</td>\n",
              "    </tr>\n",
              "    <tr>\n",
              "      <th>1</th>\n",
              "      <td>9</td>\n",
              "      <td>ATP-binding cassette, sub-family A (ABC1), mem...</td>\n",
              "      <td>17</td>\n",
              "      <td>Rare Single Gene Mutation</td>\n",
              "      <td>3.0</td>\n",
              "      <td>0</td>\n",
              "      <td>1</td>\n",
              "    </tr>\n",
              "    <tr>\n",
              "      <th>2</th>\n",
              "      <td>9</td>\n",
              "      <td>ATP binding cassette subfamily A member 13</td>\n",
              "      <td>7</td>\n",
              "      <td>Rare Single Gene Mutation, Functional</td>\n",
              "      <td>3.0</td>\n",
              "      <td>0</td>\n",
              "      <td>6</td>\n",
              "    </tr>\n",
              "    <tr>\n",
              "      <th>3</th>\n",
              "      <td>9</td>\n",
              "      <td>ATP-binding cassette, sub-family A (ABC1), mem...</td>\n",
              "      <td>19</td>\n",
              "      <td>Rare Single Gene Mutation</td>\n",
              "      <td>3.0</td>\n",
              "      <td>0</td>\n",
              "      <td>4</td>\n",
              "    </tr>\n",
              "    <tr>\n",
              "      <th>4</th>\n",
              "      <td>9</td>\n",
              "      <td>angiotensin I converting enzyme</td>\n",
              "      <td>17</td>\n",
              "      <td>Rare Single Gene Mutation, Genetic Association</td>\n",
              "      <td>3.0</td>\n",
              "      <td>0</td>\n",
              "      <td>3</td>\n",
              "    </tr>\n",
              "    <tr>\n",
              "      <th>...</th>\n",
              "      <td>...</td>\n",
              "      <td>...</td>\n",
              "      <td>...</td>\n",
              "      <td>...</td>\n",
              "      <td>...</td>\n",
              "      <td>...</td>\n",
              "      <td>...</td>\n",
              "    </tr>\n",
              "    <tr>\n",
              "      <th>1018</th>\n",
              "      <td>9</td>\n",
              "      <td>zinc finger MYM-type containing 2</td>\n",
              "      <td>13</td>\n",
              "      <td>Rare Single Gene Mutation, Syndromic</td>\n",
              "      <td>2.0</td>\n",
              "      <td>1</td>\n",
              "      <td>6</td>\n",
              "    </tr>\n",
              "    <tr>\n",
              "      <th>1019</th>\n",
              "      <td>9</td>\n",
              "      <td>zinc finger MYND-type containing 8</td>\n",
              "      <td>20</td>\n",
              "      <td>Rare Single Gene Mutation</td>\n",
              "      <td>1.0</td>\n",
              "      <td>0</td>\n",
              "      <td>4</td>\n",
              "    </tr>\n",
              "    <tr>\n",
              "      <th>1020</th>\n",
              "      <td>9</td>\n",
              "      <td>Zinc finger protein 827</td>\n",
              "      <td>4</td>\n",
              "      <td>Genetic Association</td>\n",
              "      <td>3.0</td>\n",
              "      <td>0</td>\n",
              "      <td>1</td>\n",
              "    </tr>\n",
              "    <tr>\n",
              "      <th>1021</th>\n",
              "      <td>9</td>\n",
              "      <td>zinc finger SWIM-type containing 6</td>\n",
              "      <td>5</td>\n",
              "      <td>Syndromic, Genetic Association</td>\n",
              "      <td>NaN</td>\n",
              "      <td>1</td>\n",
              "      <td>3</td>\n",
              "    </tr>\n",
              "    <tr>\n",
              "      <th>1022</th>\n",
              "      <td>9</td>\n",
              "      <td>zwilchkinetochore protein</td>\n",
              "      <td>15</td>\n",
              "      <td>Rare Single Gene Mutation</td>\n",
              "      <td>3.0</td>\n",
              "      <td>0</td>\n",
              "      <td>4</td>\n",
              "    </tr>\n",
              "  </tbody>\n",
              "</table>\n",
              "<p>1023 rows × 7 columns</p>\n",
              "</div>\n",
              "      <button class=\"colab-df-convert\" onclick=\"convertToInteractive('df-67eb3ade-323e-499f-98b2-32d582944737')\"\n",
              "              title=\"Convert this dataframe to an interactive table.\"\n",
              "              style=\"display:none;\">\n",
              "        \n",
              "  <svg xmlns=\"http://www.w3.org/2000/svg\" height=\"24px\"viewBox=\"0 0 24 24\"\n",
              "       width=\"24px\">\n",
              "    <path d=\"M0 0h24v24H0V0z\" fill=\"none\"/>\n",
              "    <path d=\"M18.56 5.44l.94 2.06.94-2.06 2.06-.94-2.06-.94-.94-2.06-.94 2.06-2.06.94zm-11 1L8.5 8.5l.94-2.06 2.06-.94-2.06-.94L8.5 2.5l-.94 2.06-2.06.94zm10 10l.94 2.06.94-2.06 2.06-.94-2.06-.94-.94-2.06-.94 2.06-2.06.94z\"/><path d=\"M17.41 7.96l-1.37-1.37c-.4-.4-.92-.59-1.43-.59-.52 0-1.04.2-1.43.59L10.3 9.45l-7.72 7.72c-.78.78-.78 2.05 0 2.83L4 21.41c.39.39.9.59 1.41.59.51 0 1.02-.2 1.41-.59l7.78-7.78 2.81-2.81c.8-.78.8-2.07 0-2.86zM5.41 20L4 18.59l7.72-7.72 1.47 1.35L5.41 20z\"/>\n",
              "  </svg>\n",
              "      </button>\n",
              "      \n",
              "  <style>\n",
              "    .colab-df-container {\n",
              "      display:flex;\n",
              "      flex-wrap:wrap;\n",
              "      gap: 12px;\n",
              "    }\n",
              "\n",
              "    .colab-df-convert {\n",
              "      background-color: #E8F0FE;\n",
              "      border: none;\n",
              "      border-radius: 50%;\n",
              "      cursor: pointer;\n",
              "      display: none;\n",
              "      fill: #1967D2;\n",
              "      height: 32px;\n",
              "      padding: 0 0 0 0;\n",
              "      width: 32px;\n",
              "    }\n",
              "\n",
              "    .colab-df-convert:hover {\n",
              "      background-color: #E2EBFA;\n",
              "      box-shadow: 0px 1px 2px rgba(60, 64, 67, 0.3), 0px 1px 3px 1px rgba(60, 64, 67, 0.15);\n",
              "      fill: #174EA6;\n",
              "    }\n",
              "\n",
              "    [theme=dark] .colab-df-convert {\n",
              "      background-color: #3B4455;\n",
              "      fill: #D2E3FC;\n",
              "    }\n",
              "\n",
              "    [theme=dark] .colab-df-convert:hover {\n",
              "      background-color: #434B5C;\n",
              "      box-shadow: 0px 1px 3px 1px rgba(0, 0, 0, 0.15);\n",
              "      filter: drop-shadow(0px 1px 2px rgba(0, 0, 0, 0.3));\n",
              "      fill: #FFFFFF;\n",
              "    }\n",
              "  </style>\n",
              "\n",
              "      <script>\n",
              "        const buttonEl =\n",
              "          document.querySelector('#df-67eb3ade-323e-499f-98b2-32d582944737 button.colab-df-convert');\n",
              "        buttonEl.style.display =\n",
              "          google.colab.kernel.accessAllowed ? 'block' : 'none';\n",
              "\n",
              "        async function convertToInteractive(key) {\n",
              "          const element = document.querySelector('#df-67eb3ade-323e-499f-98b2-32d582944737');\n",
              "          const dataTable =\n",
              "            await google.colab.kernel.invokeFunction('convertToInteractive',\n",
              "                                                     [key], {});\n",
              "          if (!dataTable) return;\n",
              "\n",
              "          const docLinkHtml = 'Like what you see? Visit the ' +\n",
              "            '<a target=\"_blank\" href=https://colab.research.google.com/notebooks/data_table.ipynb>data table notebook</a>'\n",
              "            + ' to learn more about interactive tables.';\n",
              "          element.innerHTML = '';\n",
              "          dataTable['output_type'] = 'display_data';\n",
              "          await google.colab.output.renderOutput(dataTable, element);\n",
              "          const docLink = document.createElement('div');\n",
              "          docLink.innerHTML = docLinkHtml;\n",
              "          element.appendChild(docLink);\n",
              "        }\n",
              "      </script>\n",
              "    </div>\n",
              "  </div>\n",
              "  "
            ]
          },
          "metadata": {},
          "execution_count": 50
        }
      ]
    },
    {
      "cell_type": "code",
      "source": [
        "data=data.assign(syndromic=data.pop('syndromic'))\n",
        "data"
      ],
      "metadata": {
        "colab": {
          "base_uri": "https://localhost:8080/",
          "height": 423
        },
        "id": "sNE3a_2PrHMX",
        "outputId": "7f541f89-4e57-4a79-e0f0-37cd4d8c6f4b"
      },
      "execution_count": null,
      "outputs": [
        {
          "output_type": "execute_result",
          "data": {
            "text/plain": [
              "      status                                          gene-name chromosome  \\\n",
              "0          9                   4-aminobutyrate aminotransferase         16   \n",
              "1          9  ATP-binding cassette, sub-family A (ABC1), mem...         17   \n",
              "2          9         ATP binding cassette subfamily A member 13          7   \n",
              "3          9  ATP-binding cassette, sub-family A (ABC1), mem...         19   \n",
              "4          9                    angiotensin I converting enzyme         17   \n",
              "...      ...                                                ...        ...   \n",
              "1018       9                  zinc finger MYM-type containing 2         13   \n",
              "1019       9                 zinc finger MYND-type containing 8         20   \n",
              "1020       9                            Zinc finger protein 827          4   \n",
              "1021       9                 zinc finger SWIM-type containing 6          5   \n",
              "1022       9                          zwilchkinetochore protein         15   \n",
              "\n",
              "                                    genetic-category  gene-score  \\\n",
              "0     Rare Single Gene Mutation, Genetic Association         3.0   \n",
              "1                          Rare Single Gene Mutation         3.0   \n",
              "2              Rare Single Gene Mutation, Functional         3.0   \n",
              "3                          Rare Single Gene Mutation         3.0   \n",
              "4     Rare Single Gene Mutation, Genetic Association         3.0   \n",
              "...                                              ...         ...   \n",
              "1018            Rare Single Gene Mutation, Syndromic         2.0   \n",
              "1019                       Rare Single Gene Mutation         1.0   \n",
              "1020                             Genetic Association         3.0   \n",
              "1021                  Syndromic, Genetic Association         NaN   \n",
              "1022                       Rare Single Gene Mutation         3.0   \n",
              "\n",
              "      number-of-reports  syndromic  \n",
              "0                     5          0  \n",
              "1                     1          0  \n",
              "2                     6          0  \n",
              "3                     4          0  \n",
              "4                     3          0  \n",
              "...                 ...        ...  \n",
              "1018                  6          1  \n",
              "1019                  4          0  \n",
              "1020                  1          0  \n",
              "1021                  3          1  \n",
              "1022                  4          0  \n",
              "\n",
              "[1023 rows x 7 columns]"
            ],
            "text/html": [
              "\n",
              "  <div id=\"df-75f2ed3d-0440-4eb0-843c-79ebc389aec3\">\n",
              "    <div class=\"colab-df-container\">\n",
              "      <div>\n",
              "<style scoped>\n",
              "    .dataframe tbody tr th:only-of-type {\n",
              "        vertical-align: middle;\n",
              "    }\n",
              "\n",
              "    .dataframe tbody tr th {\n",
              "        vertical-align: top;\n",
              "    }\n",
              "\n",
              "    .dataframe thead th {\n",
              "        text-align: right;\n",
              "    }\n",
              "</style>\n",
              "<table border=\"1\" class=\"dataframe\">\n",
              "  <thead>\n",
              "    <tr style=\"text-align: right;\">\n",
              "      <th></th>\n",
              "      <th>status</th>\n",
              "      <th>gene-name</th>\n",
              "      <th>chromosome</th>\n",
              "      <th>genetic-category</th>\n",
              "      <th>gene-score</th>\n",
              "      <th>number-of-reports</th>\n",
              "      <th>syndromic</th>\n",
              "    </tr>\n",
              "  </thead>\n",
              "  <tbody>\n",
              "    <tr>\n",
              "      <th>0</th>\n",
              "      <td>9</td>\n",
              "      <td>4-aminobutyrate aminotransferase</td>\n",
              "      <td>16</td>\n",
              "      <td>Rare Single Gene Mutation, Genetic Association</td>\n",
              "      <td>3.0</td>\n",
              "      <td>5</td>\n",
              "      <td>0</td>\n",
              "    </tr>\n",
              "    <tr>\n",
              "      <th>1</th>\n",
              "      <td>9</td>\n",
              "      <td>ATP-binding cassette, sub-family A (ABC1), mem...</td>\n",
              "      <td>17</td>\n",
              "      <td>Rare Single Gene Mutation</td>\n",
              "      <td>3.0</td>\n",
              "      <td>1</td>\n",
              "      <td>0</td>\n",
              "    </tr>\n",
              "    <tr>\n",
              "      <th>2</th>\n",
              "      <td>9</td>\n",
              "      <td>ATP binding cassette subfamily A member 13</td>\n",
              "      <td>7</td>\n",
              "      <td>Rare Single Gene Mutation, Functional</td>\n",
              "      <td>3.0</td>\n",
              "      <td>6</td>\n",
              "      <td>0</td>\n",
              "    </tr>\n",
              "    <tr>\n",
              "      <th>3</th>\n",
              "      <td>9</td>\n",
              "      <td>ATP-binding cassette, sub-family A (ABC1), mem...</td>\n",
              "      <td>19</td>\n",
              "      <td>Rare Single Gene Mutation</td>\n",
              "      <td>3.0</td>\n",
              "      <td>4</td>\n",
              "      <td>0</td>\n",
              "    </tr>\n",
              "    <tr>\n",
              "      <th>4</th>\n",
              "      <td>9</td>\n",
              "      <td>angiotensin I converting enzyme</td>\n",
              "      <td>17</td>\n",
              "      <td>Rare Single Gene Mutation, Genetic Association</td>\n",
              "      <td>3.0</td>\n",
              "      <td>3</td>\n",
              "      <td>0</td>\n",
              "    </tr>\n",
              "    <tr>\n",
              "      <th>...</th>\n",
              "      <td>...</td>\n",
              "      <td>...</td>\n",
              "      <td>...</td>\n",
              "      <td>...</td>\n",
              "      <td>...</td>\n",
              "      <td>...</td>\n",
              "      <td>...</td>\n",
              "    </tr>\n",
              "    <tr>\n",
              "      <th>1018</th>\n",
              "      <td>9</td>\n",
              "      <td>zinc finger MYM-type containing 2</td>\n",
              "      <td>13</td>\n",
              "      <td>Rare Single Gene Mutation, Syndromic</td>\n",
              "      <td>2.0</td>\n",
              "      <td>6</td>\n",
              "      <td>1</td>\n",
              "    </tr>\n",
              "    <tr>\n",
              "      <th>1019</th>\n",
              "      <td>9</td>\n",
              "      <td>zinc finger MYND-type containing 8</td>\n",
              "      <td>20</td>\n",
              "      <td>Rare Single Gene Mutation</td>\n",
              "      <td>1.0</td>\n",
              "      <td>4</td>\n",
              "      <td>0</td>\n",
              "    </tr>\n",
              "    <tr>\n",
              "      <th>1020</th>\n",
              "      <td>9</td>\n",
              "      <td>Zinc finger protein 827</td>\n",
              "      <td>4</td>\n",
              "      <td>Genetic Association</td>\n",
              "      <td>3.0</td>\n",
              "      <td>1</td>\n",
              "      <td>0</td>\n",
              "    </tr>\n",
              "    <tr>\n",
              "      <th>1021</th>\n",
              "      <td>9</td>\n",
              "      <td>zinc finger SWIM-type containing 6</td>\n",
              "      <td>5</td>\n",
              "      <td>Syndromic, Genetic Association</td>\n",
              "      <td>NaN</td>\n",
              "      <td>3</td>\n",
              "      <td>1</td>\n",
              "    </tr>\n",
              "    <tr>\n",
              "      <th>1022</th>\n",
              "      <td>9</td>\n",
              "      <td>zwilchkinetochore protein</td>\n",
              "      <td>15</td>\n",
              "      <td>Rare Single Gene Mutation</td>\n",
              "      <td>3.0</td>\n",
              "      <td>4</td>\n",
              "      <td>0</td>\n",
              "    </tr>\n",
              "  </tbody>\n",
              "</table>\n",
              "<p>1023 rows × 7 columns</p>\n",
              "</div>\n",
              "      <button class=\"colab-df-convert\" onclick=\"convertToInteractive('df-75f2ed3d-0440-4eb0-843c-79ebc389aec3')\"\n",
              "              title=\"Convert this dataframe to an interactive table.\"\n",
              "              style=\"display:none;\">\n",
              "        \n",
              "  <svg xmlns=\"http://www.w3.org/2000/svg\" height=\"24px\"viewBox=\"0 0 24 24\"\n",
              "       width=\"24px\">\n",
              "    <path d=\"M0 0h24v24H0V0z\" fill=\"none\"/>\n",
              "    <path d=\"M18.56 5.44l.94 2.06.94-2.06 2.06-.94-2.06-.94-.94-2.06-.94 2.06-2.06.94zm-11 1L8.5 8.5l.94-2.06 2.06-.94-2.06-.94L8.5 2.5l-.94 2.06-2.06.94zm10 10l.94 2.06.94-2.06 2.06-.94-2.06-.94-.94-2.06-.94 2.06-2.06.94z\"/><path d=\"M17.41 7.96l-1.37-1.37c-.4-.4-.92-.59-1.43-.59-.52 0-1.04.2-1.43.59L10.3 9.45l-7.72 7.72c-.78.78-.78 2.05 0 2.83L4 21.41c.39.39.9.59 1.41.59.51 0 1.02-.2 1.41-.59l7.78-7.78 2.81-2.81c.8-.78.8-2.07 0-2.86zM5.41 20L4 18.59l7.72-7.72 1.47 1.35L5.41 20z\"/>\n",
              "  </svg>\n",
              "      </button>\n",
              "      \n",
              "  <style>\n",
              "    .colab-df-container {\n",
              "      display:flex;\n",
              "      flex-wrap:wrap;\n",
              "      gap: 12px;\n",
              "    }\n",
              "\n",
              "    .colab-df-convert {\n",
              "      background-color: #E8F0FE;\n",
              "      border: none;\n",
              "      border-radius: 50%;\n",
              "      cursor: pointer;\n",
              "      display: none;\n",
              "      fill: #1967D2;\n",
              "      height: 32px;\n",
              "      padding: 0 0 0 0;\n",
              "      width: 32px;\n",
              "    }\n",
              "\n",
              "    .colab-df-convert:hover {\n",
              "      background-color: #E2EBFA;\n",
              "      box-shadow: 0px 1px 2px rgba(60, 64, 67, 0.3), 0px 1px 3px 1px rgba(60, 64, 67, 0.15);\n",
              "      fill: #174EA6;\n",
              "    }\n",
              "\n",
              "    [theme=dark] .colab-df-convert {\n",
              "      background-color: #3B4455;\n",
              "      fill: #D2E3FC;\n",
              "    }\n",
              "\n",
              "    [theme=dark] .colab-df-convert:hover {\n",
              "      background-color: #434B5C;\n",
              "      box-shadow: 0px 1px 3px 1px rgba(0, 0, 0, 0.15);\n",
              "      filter: drop-shadow(0px 1px 2px rgba(0, 0, 0, 0.3));\n",
              "      fill: #FFFFFF;\n",
              "    }\n",
              "  </style>\n",
              "\n",
              "      <script>\n",
              "        const buttonEl =\n",
              "          document.querySelector('#df-75f2ed3d-0440-4eb0-843c-79ebc389aec3 button.colab-df-convert');\n",
              "        buttonEl.style.display =\n",
              "          google.colab.kernel.accessAllowed ? 'block' : 'none';\n",
              "\n",
              "        async function convertToInteractive(key) {\n",
              "          const element = document.querySelector('#df-75f2ed3d-0440-4eb0-843c-79ebc389aec3');\n",
              "          const dataTable =\n",
              "            await google.colab.kernel.invokeFunction('convertToInteractive',\n",
              "                                                     [key], {});\n",
              "          if (!dataTable) return;\n",
              "\n",
              "          const docLinkHtml = 'Like what you see? Visit the ' +\n",
              "            '<a target=\"_blank\" href=https://colab.research.google.com/notebooks/data_table.ipynb>data table notebook</a>'\n",
              "            + ' to learn more about interactive tables.';\n",
              "          element.innerHTML = '';\n",
              "          dataTable['output_type'] = 'display_data';\n",
              "          await google.colab.output.renderOutput(dataTable, element);\n",
              "          const docLink = document.createElement('div');\n",
              "          docLink.innerHTML = docLinkHtml;\n",
              "          element.appendChild(docLink);\n",
              "        }\n",
              "      </script>\n",
              "    </div>\n",
              "  </div>\n",
              "  "
            ]
          },
          "metadata": {},
          "execution_count": 51
        }
      ]
    },
    {
      "cell_type": "code",
      "source": [
        "#checking for missing values\n",
        "data.isna().sum()"
      ],
      "metadata": {
        "colab": {
          "base_uri": "https://localhost:8080/"
        },
        "id": "gvSt9inZrHOZ",
        "outputId": "0228d2b5-c516-436d-de0e-979c5659ae23"
      },
      "execution_count": null,
      "outputs": [
        {
          "output_type": "execute_result",
          "data": {
            "text/plain": [
              "status                0\n",
              "gene-name             1\n",
              "chromosome            0\n",
              "genetic-category      2\n",
              "gene-score           81\n",
              "number-of-reports     0\n",
              "syndromic             0\n",
              "dtype: int64"
            ]
          },
          "metadata": {},
          "execution_count": 52
        }
      ]
    },
    {
      "cell_type": "markdown",
      "source": [
        "# **HANDLING MISSING VALUES**"
      ],
      "metadata": {
        "id": "-jqbzC372AOy"
      }
    },
    {
      "cell_type": "code",
      "source": [
        "#Handling the missing values in the feature 'gene-score'\n",
        "from sklearn.impute import SimpleImputer\n",
        "imputer=SimpleImputer(missing_values=np.nan,strategy='most_frequent')\n",
        "data['gene-score']=imputer.fit_transform(data[['gene-score']])"
      ],
      "metadata": {
        "id": "Frp0xnJurHQc"
      },
      "execution_count": null,
      "outputs": []
    },
    {
      "cell_type": "code",
      "source": [
        "#checking for missing values\n",
        "data.isna().sum()"
      ],
      "metadata": {
        "colab": {
          "base_uri": "https://localhost:8080/"
        },
        "id": "faTmMtKirHUG",
        "outputId": "2124db41-d9d3-4bb7-d5c9-67f8c6481aad"
      },
      "execution_count": null,
      "outputs": [
        {
          "output_type": "execute_result",
          "data": {
            "text/plain": [
              "status               0\n",
              "gene-name            1\n",
              "chromosome           0\n",
              "genetic-category     2\n",
              "gene-score           0\n",
              "number-of-reports    0\n",
              "syndromic            0\n",
              "dtype: int64"
            ]
          },
          "metadata": {},
          "execution_count": 54
        }
      ]
    },
    {
      "cell_type": "code",
      "source": [
        "#dropping off the missing values\n",
        "df1=data.dropna()"
      ],
      "metadata": {
        "id": "MH5hdeY9raI_"
      },
      "execution_count": null,
      "outputs": []
    },
    {
      "cell_type": "code",
      "source": [
        "#checking for duplicate values\n",
        "df1.duplicated().sum()"
      ],
      "metadata": {
        "colab": {
          "base_uri": "https://localhost:8080/"
        },
        "id": "TKvTgLmrraLI",
        "outputId": "96644dc0-a727-4e2d-9728-365b987d1c55"
      },
      "execution_count": null,
      "outputs": [
        {
          "output_type": "execute_result",
          "data": {
            "text/plain": [
              "0"
            ]
          },
          "metadata": {},
          "execution_count": 56
        }
      ]
    },
    {
      "cell_type": "code",
      "source": [
        "#checking for missing values\n",
        "df1.isna().sum()"
      ],
      "metadata": {
        "colab": {
          "base_uri": "https://localhost:8080/"
        },
        "id": "5OmcAijBraNN",
        "outputId": "5d40dc23-63cf-4bdb-b55b-6009a4be7251"
      },
      "execution_count": null,
      "outputs": [
        {
          "output_type": "execute_result",
          "data": {
            "text/plain": [
              "status               0\n",
              "gene-name            0\n",
              "chromosome           0\n",
              "genetic-category     0\n",
              "gene-score           0\n",
              "number-of-reports    0\n",
              "syndromic            0\n",
              "dtype: int64"
            ]
          },
          "metadata": {},
          "execution_count": 57
        }
      ]
    },
    {
      "cell_type": "code",
      "source": [
        "df1.info()"
      ],
      "metadata": {
        "colab": {
          "base_uri": "https://localhost:8080/"
        },
        "id": "Ho190u4braPV",
        "outputId": "e9958402-32cd-4a6c-df13-e2184c37a5d6"
      },
      "execution_count": null,
      "outputs": [
        {
          "output_type": "stream",
          "name": "stdout",
          "text": [
            "<class 'pandas.core.frame.DataFrame'>\n",
            "Int64Index: 1020 entries, 0 to 1022\n",
            "Data columns (total 7 columns):\n",
            " #   Column             Non-Null Count  Dtype  \n",
            "---  ------             --------------  -----  \n",
            " 0   status             1020 non-null   int64  \n",
            " 1   gene-name          1020 non-null   object \n",
            " 2   chromosome         1020 non-null   object \n",
            " 3   genetic-category   1020 non-null   object \n",
            " 4   gene-score         1020 non-null   float64\n",
            " 5   number-of-reports  1020 non-null   int64  \n",
            " 6   syndromic          1020 non-null   int64  \n",
            "dtypes: float64(1), int64(3), object(3)\n",
            "memory usage: 63.8+ KB\n"
          ]
        }
      ]
    },
    {
      "cell_type": "code",
      "source": [
        "#Checking for unique values in each features\n",
        "df1.nunique()"
      ],
      "metadata": {
        "colab": {
          "base_uri": "https://localhost:8080/"
        },
        "id": "tH1pmtzLraRb",
        "outputId": "b20d5e9d-9ede-4743-a0f5-07f6d3cc8f02"
      },
      "execution_count": null,
      "outputs": [
        {
          "output_type": "execute_result",
          "data": {
            "text/plain": [
              "status                  1\n",
              "gene-name            1020\n",
              "chromosome             25\n",
              "genetic-category       14\n",
              "gene-score              3\n",
              "number-of-reports      57\n",
              "syndromic               2\n",
              "dtype: int64"
            ]
          },
          "metadata": {},
          "execution_count": 59
        }
      ]
    },
    {
      "cell_type": "code",
      "source": [
        "df1.shape"
      ],
      "metadata": {
        "colab": {
          "base_uri": "https://localhost:8080/"
        },
        "id": "-YxOdAztraTQ",
        "outputId": "ce7050ee-6bfa-4c2c-a38d-e31a6c59a314"
      },
      "execution_count": null,
      "outputs": [
        {
          "output_type": "execute_result",
          "data": {
            "text/plain": [
              "(1020, 7)"
            ]
          },
          "metadata": {},
          "execution_count": 60
        }
      ]
    },
    {
      "cell_type": "code",
      "source": [
        "df1['chromosome'].unique()"
      ],
      "metadata": {
        "colab": {
          "base_uri": "https://localhost:8080/"
        },
        "id": "lj0XHiG8raVe",
        "outputId": "0f46effe-cf4f-4e6a-b1e9-ed01e72b7b21"
      },
      "execution_count": null,
      "outputs": [
        {
          "output_type": "execute_result",
          "data": {
            "text/plain": [
              "array(['16', '17', '7', '19', '3', '20', '2', '10', '1', '22', 'X', '12',\n",
              "       '6', '15', '4', '8', '11', '9', '14', 'X,Y', '18', '5', '13', '21',\n",
              "       'Y'], dtype=object)"
            ]
          },
          "metadata": {},
          "execution_count": 61
        }
      ]
    },
    {
      "cell_type": "code",
      "source": [
        "df1.corr()"
      ],
      "metadata": {
        "colab": {
          "base_uri": "https://localhost:8080/",
          "height": 229
        },
        "id": "Eq3Z5uD8raXq",
        "outputId": "2e00a93d-983c-497c-b70a-4548755109da"
      },
      "execution_count": null,
      "outputs": [
        {
          "output_type": "stream",
          "name": "stderr",
          "text": [
            "<ipython-input-62-49b3fcfeb4d1>:1: FutureWarning: The default value of numeric_only in DataFrame.corr is deprecated. In a future version, it will default to False. Select only valid columns or specify the value of numeric_only to silence this warning.\n",
            "  df1.corr()\n"
          ]
        },
        {
          "output_type": "execute_result",
          "data": {
            "text/plain": [
              "                   status  gene-score  number-of-reports  syndromic\n",
              "status                NaN         NaN                NaN        NaN\n",
              "gene-score            NaN    1.000000          -0.455710  -0.175911\n",
              "number-of-reports     NaN   -0.455710           1.000000   0.297523\n",
              "syndromic             NaN   -0.175911           0.297523   1.000000"
            ],
            "text/html": [
              "\n",
              "  <div id=\"df-0b7172a0-1cdd-476b-ab1a-01ec1f0d92c7\">\n",
              "    <div class=\"colab-df-container\">\n",
              "      <div>\n",
              "<style scoped>\n",
              "    .dataframe tbody tr th:only-of-type {\n",
              "        vertical-align: middle;\n",
              "    }\n",
              "\n",
              "    .dataframe tbody tr th {\n",
              "        vertical-align: top;\n",
              "    }\n",
              "\n",
              "    .dataframe thead th {\n",
              "        text-align: right;\n",
              "    }\n",
              "</style>\n",
              "<table border=\"1\" class=\"dataframe\">\n",
              "  <thead>\n",
              "    <tr style=\"text-align: right;\">\n",
              "      <th></th>\n",
              "      <th>status</th>\n",
              "      <th>gene-score</th>\n",
              "      <th>number-of-reports</th>\n",
              "      <th>syndromic</th>\n",
              "    </tr>\n",
              "  </thead>\n",
              "  <tbody>\n",
              "    <tr>\n",
              "      <th>status</th>\n",
              "      <td>NaN</td>\n",
              "      <td>NaN</td>\n",
              "      <td>NaN</td>\n",
              "      <td>NaN</td>\n",
              "    </tr>\n",
              "    <tr>\n",
              "      <th>gene-score</th>\n",
              "      <td>NaN</td>\n",
              "      <td>1.000000</td>\n",
              "      <td>-0.455710</td>\n",
              "      <td>-0.175911</td>\n",
              "    </tr>\n",
              "    <tr>\n",
              "      <th>number-of-reports</th>\n",
              "      <td>NaN</td>\n",
              "      <td>-0.455710</td>\n",
              "      <td>1.000000</td>\n",
              "      <td>0.297523</td>\n",
              "    </tr>\n",
              "    <tr>\n",
              "      <th>syndromic</th>\n",
              "      <td>NaN</td>\n",
              "      <td>-0.175911</td>\n",
              "      <td>0.297523</td>\n",
              "      <td>1.000000</td>\n",
              "    </tr>\n",
              "  </tbody>\n",
              "</table>\n",
              "</div>\n",
              "      <button class=\"colab-df-convert\" onclick=\"convertToInteractive('df-0b7172a0-1cdd-476b-ab1a-01ec1f0d92c7')\"\n",
              "              title=\"Convert this dataframe to an interactive table.\"\n",
              "              style=\"display:none;\">\n",
              "        \n",
              "  <svg xmlns=\"http://www.w3.org/2000/svg\" height=\"24px\"viewBox=\"0 0 24 24\"\n",
              "       width=\"24px\">\n",
              "    <path d=\"M0 0h24v24H0V0z\" fill=\"none\"/>\n",
              "    <path d=\"M18.56 5.44l.94 2.06.94-2.06 2.06-.94-2.06-.94-.94-2.06-.94 2.06-2.06.94zm-11 1L8.5 8.5l.94-2.06 2.06-.94-2.06-.94L8.5 2.5l-.94 2.06-2.06.94zm10 10l.94 2.06.94-2.06 2.06-.94-2.06-.94-.94-2.06-.94 2.06-2.06.94z\"/><path d=\"M17.41 7.96l-1.37-1.37c-.4-.4-.92-.59-1.43-.59-.52 0-1.04.2-1.43.59L10.3 9.45l-7.72 7.72c-.78.78-.78 2.05 0 2.83L4 21.41c.39.39.9.59 1.41.59.51 0 1.02-.2 1.41-.59l7.78-7.78 2.81-2.81c.8-.78.8-2.07 0-2.86zM5.41 20L4 18.59l7.72-7.72 1.47 1.35L5.41 20z\"/>\n",
              "  </svg>\n",
              "      </button>\n",
              "      \n",
              "  <style>\n",
              "    .colab-df-container {\n",
              "      display:flex;\n",
              "      flex-wrap:wrap;\n",
              "      gap: 12px;\n",
              "    }\n",
              "\n",
              "    .colab-df-convert {\n",
              "      background-color: #E8F0FE;\n",
              "      border: none;\n",
              "      border-radius: 50%;\n",
              "      cursor: pointer;\n",
              "      display: none;\n",
              "      fill: #1967D2;\n",
              "      height: 32px;\n",
              "      padding: 0 0 0 0;\n",
              "      width: 32px;\n",
              "    }\n",
              "\n",
              "    .colab-df-convert:hover {\n",
              "      background-color: #E2EBFA;\n",
              "      box-shadow: 0px 1px 2px rgba(60, 64, 67, 0.3), 0px 1px 3px 1px rgba(60, 64, 67, 0.15);\n",
              "      fill: #174EA6;\n",
              "    }\n",
              "\n",
              "    [theme=dark] .colab-df-convert {\n",
              "      background-color: #3B4455;\n",
              "      fill: #D2E3FC;\n",
              "    }\n",
              "\n",
              "    [theme=dark] .colab-df-convert:hover {\n",
              "      background-color: #434B5C;\n",
              "      box-shadow: 0px 1px 3px 1px rgba(0, 0, 0, 0.15);\n",
              "      filter: drop-shadow(0px 1px 2px rgba(0, 0, 0, 0.3));\n",
              "      fill: #FFFFFF;\n",
              "    }\n",
              "  </style>\n",
              "\n",
              "      <script>\n",
              "        const buttonEl =\n",
              "          document.querySelector('#df-0b7172a0-1cdd-476b-ab1a-01ec1f0d92c7 button.colab-df-convert');\n",
              "        buttonEl.style.display =\n",
              "          google.colab.kernel.accessAllowed ? 'block' : 'none';\n",
              "\n",
              "        async function convertToInteractive(key) {\n",
              "          const element = document.querySelector('#df-0b7172a0-1cdd-476b-ab1a-01ec1f0d92c7');\n",
              "          const dataTable =\n",
              "            await google.colab.kernel.invokeFunction('convertToInteractive',\n",
              "                                                     [key], {});\n",
              "          if (!dataTable) return;\n",
              "\n",
              "          const docLinkHtml = 'Like what you see? Visit the ' +\n",
              "            '<a target=\"_blank\" href=https://colab.research.google.com/notebooks/data_table.ipynb>data table notebook</a>'\n",
              "            + ' to learn more about interactive tables.';\n",
              "          element.innerHTML = '';\n",
              "          dataTable['output_type'] = 'display_data';\n",
              "          await google.colab.output.renderOutput(dataTable, element);\n",
              "          const docLink = document.createElement('div');\n",
              "          docLink.innerHTML = docLinkHtml;\n",
              "          element.appendChild(docLink);\n",
              "        }\n",
              "      </script>\n",
              "    </div>\n",
              "  </div>\n",
              "  "
            ]
          },
          "metadata": {},
          "execution_count": 62
        }
      ]
    },
    {
      "cell_type": "code",
      "source": [
        "sns.heatmap(df1.corr(),annot=True)"
      ],
      "metadata": {
        "colab": {
          "base_uri": "https://localhost:8080/",
          "height": 597
        },
        "id": "1H8b-PPiwBUY",
        "outputId": "c15c512b-8e22-4ddb-827b-8fd768364558"
      },
      "execution_count": null,
      "outputs": [
        {
          "output_type": "execute_result",
          "data": {
            "text/plain": [
              "<Axes: >"
            ]
          },
          "metadata": {},
          "execution_count": 93
        },
        {
          "output_type": "display_data",
          "data": {
            "text/plain": [
              "<Figure size 500x500 with 2 Axes>"
            ],
            "image/png": "[encoded data removed]"
          },
          "metadata": {}
        }
      ]
    },
    {
      "cell_type": "code",
      "source": [
        "df1['syndromic'].value_counts()"
      ],
      "metadata": {
        "colab": {
          "base_uri": "https://localhost:8080/"
        },
        "id": "JOavN8vhraZr",
        "outputId": "e4be4600-26f0-45a4-bb3b-0f5adc079a99"
      },
      "execution_count": null,
      "outputs": [
        {
          "output_type": "execute_result",
          "data": {
            "text/plain": [
              "0    790\n",
              "1    230\n",
              "Name: syndromic, dtype: int64"
            ]
          },
          "metadata": {},
          "execution_count": 63
        }
      ]
    },
    {
      "cell_type": "code",
      "source": [
        "df1['syndromic'].value_counts().plot.bar()"
      ],
      "metadata": {
        "colab": {
          "base_uri": "https://localhost:8080/",
          "height": 461
        },
        "id": "5EO7M5iAvjzf",
        "outputId": "72ee4fcf-d72f-43e5-b41d-a2f5c9f08420"
      },
      "execution_count": null,
      "outputs": [
        {
          "output_type": "execute_result",
          "data": {
            "text/plain": [
              "<Axes: >"
            ]
          },
          "metadata": {},
          "execution_count": 92
        },
        {
          "output_type": "display_data",
          "data": {
            "text/plain": [
              "<Figure size 500x500 with 1 Axes>"
            ],
            "image/png": "[encoded data removed]"
          },
          "metadata": {}
        }
      ]
    },
    {
      "cell_type": "code",
      "source": [
        "#Choosing dependent variable\n",
        "x=df1.iloc[:,:-1]\n",
        "\n",
        "#Choosing target variable\n",
        "y=df1.iloc[:,-1]"
      ],
      "metadata": {
        "id": "LT-P4boirad9"
      },
      "execution_count": null,
      "outputs": []
    },
    {
      "cell_type": "code",
      "source": [
        "y.describe()"
      ],
      "metadata": {
        "colab": {
          "base_uri": "https://localhost:8080/"
        },
        "id": "RE-z6bv-3KeY",
        "outputId": "a43430bc-c797-4bbc-8793-f107ca14d2c7"
      },
      "execution_count": null,
      "outputs": [
        {
          "output_type": "execute_result",
          "data": {
            "text/plain": [
              "count    1020.00000\n",
              "mean        0.22549\n",
              "std         0.41811\n",
              "min         0.00000\n",
              "25%         0.00000\n",
              "50%         0.00000\n",
              "75%         0.00000\n",
              "max         1.00000\n",
              "Name: syndromic, dtype: float64"
            ]
          },
          "metadata": {},
          "execution_count": 97
        }
      ]
    },
    {
      "cell_type": "markdown",
      "source": [
        "## **ENCODING CATEGORICAL VARIABLES**"
      ],
      "metadata": {
        "id": "l6dNZsoMsLjz"
      }
    },
    {
      "cell_type": "code",
      "source": [
        "#Transforming categorical data into numerical data\n",
        "from sklearn.preprocessing import LabelEncoder\n",
        "le = LabelEncoder()\n",
        "cat_col = ['gene-name', 'chromosome', 'genetic-category']\n",
        "for col in cat_col:\n",
        "    df1[col] = le.fit_transform(df1[col])\n",
        "print(df1)"
      ],
      "metadata": {
        "colab": {
          "base_uri": "https://localhost:8080/"
        },
        "id": "GiiFQVjEraf3",
        "outputId": "7fd36ba3-fa23-4669-b154-0bd06cb87951"
      },
      "execution_count": null,
      "outputs": [
        {
          "output_type": "stream",
          "name": "stdout",
          "text": [
            "      status  gene-name  chromosome  genetic-category  gene-score  \\\n",
            "0          9          0           7                 5         3.0   \n",
            "1          9         14           8                 3         3.0   \n",
            "2          9         13          19                 4         3.0   \n",
            "3          9         15          10                 3         3.0   \n",
            "4          9        461           8                 5         3.0   \n",
            "...      ...        ...         ...               ...         ...   \n",
            "1018       9       1012           4                 7         2.0   \n",
            "1019       9       1013          12                 3         1.0   \n",
            "1020       9        436          16                 1         3.0   \n",
            "1021       9       1014          17                13         3.0   \n",
            "1022       9       1019           6                 3         3.0   \n",
            "\n",
            "      number-of-reports  syndromic  \n",
            "0                     5          0  \n",
            "1                     1          0  \n",
            "2                     6          0  \n",
            "3                     4          0  \n",
            "4                     3          0  \n",
            "...                 ...        ...  \n",
            "1018                  6          1  \n",
            "1019                  4          0  \n",
            "1020                  1          0  \n",
            "1021                  3          1  \n",
            "1022                  4          0  \n",
            "\n",
            "[1020 rows x 7 columns]\n"
          ]
        },
        {
          "output_type": "stream",
          "name": "stderr",
          "text": [
            "<ipython-input-70-63c4c2abaa78>:6: SettingWithCopyWarning: \n",
            "A value is trying to be set on a copy of a slice from a DataFrame.\n",
            "Try using .loc[row_indexer,col_indexer] = value instead\n",
            "\n",
            "See the caveats in the documentation: https://pandas.pydata.org/pandas-docs/stable/user_guide/indexing.html#returning-a-view-versus-a-copy\n",
            "  df1[col] = le.fit_transform(df1[col])\n",
            "<ipython-input-70-63c4c2abaa78>:6: SettingWithCopyWarning: \n",
            "A value is trying to be set on a copy of a slice from a DataFrame.\n",
            "Try using .loc[row_indexer,col_indexer] = value instead\n",
            "\n",
            "See the caveats in the documentation: https://pandas.pydata.org/pandas-docs/stable/user_guide/indexing.html#returning-a-view-versus-a-copy\n",
            "  df1[col] = le.fit_transform(df1[col])\n",
            "<ipython-input-70-63c4c2abaa78>:6: SettingWithCopyWarning: \n",
            "A value is trying to be set on a copy of a slice from a DataFrame.\n",
            "Try using .loc[row_indexer,col_indexer] = value instead\n",
            "\n",
            "See the caveats in the documentation: https://pandas.pydata.org/pandas-docs/stable/user_guide/indexing.html#returning-a-view-versus-a-copy\n",
            "  df1[col] = le.fit_transform(df1[col])\n"
          ]
        }
      ]
    },
    {
      "cell_type": "markdown",
      "source": [
        "# **SPLITTING TRAIN AND TEST SETS**"
      ],
      "metadata": {
        "id": "EBMK1EWfsWgz"
      }
    },
    {
      "cell_type": "code",
      "source": [
        "from sklearn.model_selection import train_test_split\n",
        "x_train,x_test,y_train,y_test = train_test_split(x, y, test_size = 0.2, random_state = 1)"
      ],
      "metadata": {
        "id": "hEXpFgoDrajY"
      },
      "execution_count": null,
      "outputs": []
    },
    {
      "cell_type": "markdown",
      "source": [
        "# **HANDLING IMBALANCED DATASETS**"
      ],
      "metadata": {
        "id": "RNtOHx5ysdT2"
      }
    },
    {
      "cell_type": "code",
      "source": [
        "from imblearn.over_sampling import SMOTE\n",
        "smote = SMOTE()\n",
        "x_train, y_train = smote.fit_resample(x_train, y_train)"
      ],
      "metadata": {
        "id": "GU4hsmejqiOl"
      },
      "execution_count": null,
      "outputs": []
    },
    {
      "cell_type": "markdown",
      "source": [
        "# **KFOLD CROSS VALIDATION FOR VARIOUS MACHINE LEARNING ALGORITHMS**"
      ],
      "metadata": {
        "id": "wkV1WRPtsuD-"
      }
    },
    {
      "cell_type": "code",
      "source": [
        "from sklearn.model_selection import cross_val_score, KFold\n",
        "from sklearn.linear_model import LogisticRegression\n",
        "from sklearn.neighbors import KNeighborsClassifier\n",
        "from sklearn.ensemble import RandomForestClassifier\n",
        "from sklearn.tree import DecisionTreeClassifier\n",
        "from sklearn.svm import SVC\n",
        "import xgboost as xgb\n",
        "from sklearn.ensemble import BaggingClassifier\n",
        "from sklearn.ensemble import AdaBoostClassifier\n",
        "from sklearn.ensemble import IsolationForest\n",
        "from sklearn.naive_bayes import GaussianNB"
      ],
      "metadata": {
        "id": "TM-8AZ4kslXc"
      },
      "execution_count": null,
      "outputs": []
    },
    {
      "cell_type": "code",
      "source": [
        "cv=KFold(n_splits=5, random_state=0, shuffle=True)\n",
        "\n",
        "lrModel = LogisticRegression()\n",
        "KnModel = KNeighborsClassifier()\n",
        "RfModel = RandomForestClassifier()\n",
        "DtModel = DecisionTreeClassifier()\n",
        "SvmModel = SVC()\n",
        "XgbModel = xgb.XGBClassifier()\n",
        "BcModel = BaggingClassifier()\n",
        "AdbModel = AdaBoostClassifier()\n",
        "IfModel = IsolationForest()\n",
        "NBModel = GaussianNB()"
      ],
      "metadata": {
        "id": "q2YQImgeslZZ"
      },
      "execution_count": null,
      "outputs": []
    },
    {
      "cell_type": "code",
      "source": [
        "scores = cross_val_score(lrModel, x_train, y_train, cv = cv,scoring='accuracy')\n",
        "print(\"Logistics Regression Average CV Score: \",scores.mean())\n",
        "\n",
        "scores = cross_val_score(KnModel, x_train, y_train, cv = cv,scoring='accuracy')\n",
        "print(\"KNeighbors Average CV Score: \",scores.mean())\n",
        "\n",
        "scores = cross_val_score(DtModel, x_train, y_train, cv = cv,scoring='accuracy')\n",
        "print(\"Decision Tree Average CV Score: \",scores.mean())\n",
        "\n",
        "scores = cross_val_score(RfModel, x_train, y_train, cv = cv,scoring='accuracy')\n",
        "print(\"Random Forest Average CV Score: \",scores.mean())\n",
        "\n",
        "scores = cross_val_score(AdbModel, x_train, y_train, cv = cv,scoring='accuracy')\n",
        "print(\"AdaBoost Tree Average CV Score: \",scores.mean())\n",
        "\n",
        "scores = cross_val_score(SvmModel, x_train, y_train, cv = cv,scoring='accuracy')\n",
        "print(\"Support Vector Machine Average CV Score: \",scores.mean())\n",
        "\n",
        "scores = cross_val_score(XgbModel, x_train, y_train, cv = cv,scoring='accuracy')\n",
        "print(\"XGBoost Average CV Score: \",scores.mean())\n",
        "\n",
        "scores = cross_val_score(BcModel, x_train, y_train, cv = cv,scoring='accuracy')\n",
        "print(\"Bagging Classifier Average CV Score: \",scores.mean())\n",
        "\n",
        "scores = cross_val_score(IfModel, x_train, y_train, cv = cv,scoring='accuracy')\n",
        "print(\"Isolation Forest Average CV Score: \",scores.mean())\n",
        "\n",
        "scores = cross_val_score(NBModel, x_train, y_train, cv = cv, scoring='accuracy')\n",
        "print(\"Naive Bayes Average CV Score: \", scores.mean())"
      ],
      "metadata": {
        "colab": {
          "base_uri": "https://localhost:8080/"
        },
        "id": "1-L-CYzHslba",
        "outputId": "832c8dff-68f5-4721-9691-09f498e86c6d"
      },
      "execution_count": null,
      "outputs": [
        {
          "output_type": "stream",
          "name": "stdout",
          "text": [
            "Logistics Regression Average CV Score:  0.8797446514837819\n",
            "KNeighbors Average CV Score:  0.7571208984252463\n",
            "Decision Tree Average CV Score:  0.8844971453667106\n",
            "Random Forest Average CV Score:  0.9129681912290609\n",
            "AdaBoost Tree Average CV Score:  0.8955643390425998\n",
            "Support Vector Machine Average CV Score:  0.5110860154338415\n",
            "XGBoost Average CV Score:  0.9074314574314574\n",
            "Bagging Classifier Average CV Score:  0.8987389422172031\n",
            "Isolation Forest Average CV Score:  0.32040592257983563\n",
            "Naive Bayes Average CV Score:  0.8544074283204717\n"
          ]
        }
      ]
    },
    {
      "cell_type": "markdown",
      "source": [
        "# **FEATURE SELECTION USING T-TEST**"
      ],
      "metadata": {
        "id": "OpfDIbOHs2fg"
      }
    },
    {
      "cell_type": "code",
      "source": [
        "import scipy.stats as stats\n",
        "t_values, p_values = stats.ttest_ind(x, y)\n",
        "results = pd.DataFrame({'feature': data.columns[:-1], 't-value': t_values, 'p-value': p_values})\n",
        "results = results.sort_values(by='t-value', ascending=False)\n",
        "k = 5\n",
        "selected_features = results.head(k)['feature'].tolist()\n",
        "selected_features"
      ],
      "metadata": {
        "colab": {
          "base_uri": "https://localhost:8080/"
        },
        "id": "XHX4nKZQsldm",
        "outputId": "a64e1985-84ce-4612-8c4e-b578cae1386b"
      },
      "execution_count": null,
      "outputs": [
        {
          "output_type": "stream",
          "name": "stderr",
          "text": [
            "<ipython-input-76-ac862e289a12>:2: RuntimeWarning: Precision loss occurred in moment calculation due to catastrophic cancellation. This occurs when the data are nearly identical. Results may be unreliable.\n",
            "  t_values, p_values = stats.ttest_ind(x, y)\n"
          ]
        },
        {
          "output_type": "execute_result",
          "data": {
            "text/plain": [
              "['status', 'gene-score', 'genetic-category', 'gene-name', 'chromosome']"
            ]
          },
          "metadata": {},
          "execution_count": 76
        }
      ]
    },
    {
      "cell_type": "markdown",
      "source": [
        "# **KFOLD CROSS VALIDATION AFTER T-TEST**"
      ],
      "metadata": {
        "id": "CuWnh-yks6da"
      }
    },
    {
      "cell_type": "code",
      "source": [
        "scores = cross_val_score(lrModel, x_train, y_train, cv = cv,scoring='accuracy')\n",
        "print(\"Logistics Regression Average CV Score: \",scores.mean())\n",
        "\n",
        "scores = cross_val_score(KnModel, x_train, y_train, cv = cv,scoring='accuracy')\n",
        "print(\"KNeighbors Average CV Score: \",scores.mean())\n",
        "\n",
        "scores = cross_val_score(DtModel, x_train, y_train, cv = cv,scoring='accuracy')\n",
        "print(\"Decision Tree Average CV Score: \",scores.mean())\n",
        "\n",
        "scores = cross_val_score(RfModel, x_train, y_train, cv = cv,scoring='accuracy')\n",
        "print(\"Random Forest Average CV Score: \",scores.mean())\n",
        "\n",
        "scores = cross_val_score(AdbModel, x_train, y_train, cv = cv,scoring='accuracy')\n",
        "print(\"AdaBoost Tree Average CV Score: \",scores.mean())\n",
        "\n",
        "scores = cross_val_score(SvmModel, x_train, y_train, cv = cv,scoring='accuracy')\n",
        "print(\"Support Vector Machine Average CV Score: \",scores.mean())\n",
        "\n",
        "scores = cross_val_score(XgbModel, x_train, y_train, cv = cv,scoring='accuracy')\n",
        "print(\"XGBoost Average CV Score: \",scores.mean())\n",
        "\n",
        "scores = cross_val_score(BcModel, x_train, y_train, cv = cv,scoring='accuracy')\n",
        "print(\"Bagging Classifier Average CV Score: \",scores.mean())\n",
        "\n",
        "scores = cross_val_score(IfModel, x_train, y_train, cv = cv,scoring='accuracy')\n",
        "print(\"Isolation Forest Average CV Score: \",scores.mean())\n",
        "\n",
        "scores = cross_val_score(NBModel, x_train, y_train, cv = cv, scoring='accuracy')\n",
        "print(\"Naive Bayes Average CV Score: \", scores.mean())"
      ],
      "metadata": {
        "colab": {
          "base_uri": "https://localhost:8080/"
        },
        "id": "ehRThdsusljo",
        "outputId": "7be63e8b-dfbf-4739-bbd2-3456ab20b6d3"
      },
      "execution_count": null,
      "outputs": [
        {
          "output_type": "stream",
          "name": "stdout",
          "text": [
            "Logistics Regression Average CV Score:  0.8797446514837819\n",
            "KNeighbors Average CV Score:  0.7571208984252463\n",
            "Decision Tree Average CV Score:  0.8892465022899806\n",
            "Random Forest Average CV Score:  0.9121714034757513\n",
            "AdaBoost Tree Average CV Score:  0.8955643390425998\n",
            "Support Vector Machine Average CV Score:  0.5110860154338415\n",
            "XGBoost Average CV Score:  0.9074314574314574\n",
            "Bagging Classifier Average CV Score:  0.8963674007152267\n",
            "Isolation Forest Average CV Score:  0.3219869502478198\n",
            "Naive Bayes Average CV Score:  0.8544074283204717\n"
          ]
        }
      ]
    },
    {
      "cell_type": "markdown",
      "source": [
        "# **FEATURE SELECTION USING ANOVA TEST**"
      ],
      "metadata": {
        "id": "SyElz_i_tCk-"
      }
    },
    {
      "cell_type": "code",
      "source": [
        "# SelectKBest -- Select features according to the k highest scores.\n",
        "# f_classif -- Compute the ANOVA F-value for the provided sample.\n",
        "#F- Value - It is the ratio of two Chi-distributions divided by its degrees of Freedom\n",
        "from sklearn.feature_selection import SelectKBest\n",
        "from sklearn.feature_selection import f_classif\n",
        "select = SelectKBest(f_classif,k=5)\n",
        "z = select.fit_transform(x,y)\n",
        " \n",
        "print(\"After selecting best 5 features:\", z.shape) "
      ],
      "metadata": {
        "colab": {
          "base_uri": "https://localhost:8080/"
        },
        "id": "6e4KUNm8tDBi",
        "outputId": "0f039c37-ebf2-4496-ef82-448316eca8d9"
      },
      "execution_count": null,
      "outputs": [
        {
          "output_type": "stream",
          "name": "stdout",
          "text": [
            "After selecting best 5 features: (1020, 5)\n"
          ]
        },
        {
          "output_type": "stream",
          "name": "stderr",
          "text": [
            "/usr/local/lib/python3.10/dist-packages/sklearn/feature_selection/_univariate_selection.py:112: UserWarning: Features [0] are constant.\n",
            "  warnings.warn(\"Features %s are constant.\" % constant_features_idx, UserWarning)\n",
            "/usr/local/lib/python3.10/dist-packages/sklearn/feature_selection/_univariate_selection.py:113: RuntimeWarning: invalid value encountered in true_divide\n",
            "  f = msb / msw\n"
          ]
        }
      ]
    },
    {
      "cell_type": "code",
      "source": [
        "New_features=select.get_feature_names_out()\n",
        "list(New_features)"
      ],
      "metadata": {
        "colab": {
          "base_uri": "https://localhost:8080/"
        },
        "id": "77puZ1Fgsllw",
        "outputId": "64079b0c-847a-48d8-e076-64ff84c051e9"
      },
      "execution_count": null,
      "outputs": [
        {
          "output_type": "execute_result",
          "data": {
            "text/plain": [
              "['gene-name',\n",
              " 'chromosome',\n",
              " 'genetic-category',\n",
              " 'gene-score',\n",
              " 'number-of-reports']"
            ]
          },
          "metadata": {},
          "execution_count": 79
        }
      ]
    },
    {
      "cell_type": "markdown",
      "source": [
        "# **KFOLD CROSS VALIDATION AFTER ANOVA TEST**"
      ],
      "metadata": {
        "id": "ukG84vgwtKxo"
      }
    },
    {
      "cell_type": "code",
      "source": [
        "scores = cross_val_score(lrModel, x_train, y_train, cv = cv,scoring='accuracy')\n",
        "print(\"Logistics Regression Average CV Score: \",scores.mean())\n",
        "\n",
        "scores = cross_val_score(KnModel, x_train, y_train, cv = cv,scoring='accuracy')\n",
        "print(\"KNeighbors Average CV Score: \",scores.mean())\n",
        "\n",
        "scores = cross_val_score(DtModel, x_train, y_train, cv = cv,scoring='accuracy')\n",
        "print(\"Decision Tree Average CV Score: \",scores.mean())\n",
        "\n",
        "scores = cross_val_score(RfModel, x_train, y_train, cv = cv,scoring='accuracy')\n",
        "print(\"Random Forest Average CV Score: \",scores.mean())\n",
        "\n",
        "scores = cross_val_score(AdbModel, x_train, y_train, cv = cv,scoring='accuracy')\n",
        "print(\"AdaBoost Tree Average CV Score: \",scores.mean())\n",
        "\n",
        "scores = cross_val_score(SvmModel, x_train, y_train, cv = cv,scoring='accuracy')\n",
        "print(\"Support Vector Machine Average CV Score: \",scores.mean())\n",
        "\n",
        "scores = cross_val_score(XgbModel, x_train, y_train, cv = cv,scoring='accuracy')\n",
        "print(\"XGBoost Average CV Score: \",scores.mean())\n",
        "\n",
        "scores = cross_val_score(BcModel, x_train, y_train, cv = cv,scoring='accuracy')\n",
        "print(\"Bagging Classifier Average CV Score: \",scores.mean())\n",
        "\n",
        "scores = cross_val_score(IfModel, x_train, y_train, cv = cv,scoring='accuracy')\n",
        "print(\"Isolation Forest Average CV Score: \",scores.mean())\n",
        "\n",
        "scores = cross_val_score(NBModel, x_train, y_train, cv = cv, scoring='accuracy')\n",
        "print(\"Naive Bayes Average CV Score: \", scores.mean())"
      ],
      "metadata": {
        "colab": {
          "base_uri": "https://localhost:8080/"
        },
        "id": "kvAk2PlbslnS",
        "outputId": "3d1e1d66-875a-4eaa-fbd5-7f9ed07cda74"
      },
      "execution_count": null,
      "outputs": [
        {
          "output_type": "stream",
          "name": "stdout",
          "text": [
            "Logistics Regression Average CV Score:  0.8797446514837819\n",
            "KNeighbors Average CV Score:  0.7571208984252463\n",
            "Decision Tree Average CV Score:  0.8852907961603614\n",
            "Random Forest Average CV Score:  0.9121745404354101\n",
            "AdaBoost Tree Average CV Score:  0.8955643390425998\n",
            "Support Vector Machine Average CV Score:  0.5110860154338415\n",
            "XGBoost Average CV Score:  0.9074314574314574\n",
            "Bagging Classifier Average CV Score:  0.9011010728402032\n",
            "Isolation Forest Average CV Score:  0.3196154087458435\n",
            "Naive Bayes Average CV Score:  0.8544074283204717\n"
          ]
        }
      ]
    },
    {
      "cell_type": "markdown",
      "source": [
        "# **COMPARISON OF VARIOUS MACHINE LEARNING ALGORITHMS**"
      ],
      "metadata": {
        "id": "GQZ2SRFvwyPK"
      }
    },
    {
      "cell_type": "code",
      "source": [
        "models = ['Logistic Regression', 'KNN', 'Decision Tree', 'Random Forest', 'AdaBoost', 'SVM', 'XGBoost', 'Bagging Classifier', 'Isolation Forest', 'Naive Bayes']\n",
        "accuracy = [0.88, 0.757, 0.885, 0.912, 0.896, 0.511, 0.907, 0.901, 0.32, 0.85]\n",
        "\n",
        "fig, ax = plt.subplots()\n",
        "ax.bar(models, accuracy)\n",
        "\n",
        "# Set the figure size\n",
        "fig.set_size_inches(20, 8)  # Adjust the width and height as desired\n",
        "\n",
        "for index, value in enumerate(accuracy):\n",
        "    plt.text(index, value,\n",
        "             str(value))\n",
        "\n",
        "# Add labels and titles\n",
        "ax.set_xlabel('Models')\n",
        "ax.set_ylabel('Accuracy')\n",
        "ax.set_title('Accuracy of Machine Learning Models')\n",
        "\n",
        "# Display the plot\n",
        "plt.show()"
      ],
      "metadata": {
        "colab": {
          "base_uri": "https://localhost:8080/",
          "height": 629
        },
        "id": "sD7kH-SJqiR9",
        "outputId": "b1f586de-de4d-4209-826f-10213ab980d7"
      },
      "execution_count": null,
      "outputs": [
        {
          "output_type": "display_data",
          "data": {
            "text/plain": [
              "<Figure size 2000x800 with 1 Axes>"
            ],
            "image/png": "[encoded data removed]"
          },
          "metadata": {}
        }
      ]
    },
    {
      "cell_type": "markdown",
      "source": [
        "# **Random Forest Classifier is the top performer**\n",
        "\n",
        "# **HYPERPARAMETER TUNING FOR RANDOM FOREST CLASSIFIER**"
      ],
      "metadata": {
        "id": "HkhJ5wKztyw9"
      }
    },
    {
      "cell_type": "code",
      "source": [
        "from sklearn.model_selection import GridSearchCV\n",
        "\n",
        "param_grid = {'n_estimators': [50, 100, 200], 'max_depth': [None, 5, 10], 'max_features': [None, 'sqrt', 'log2'], 'criterion': ['entropy', 'gini', 'log_loss']}\n",
        "\n",
        "grid_search = GridSearchCV(estimator=RfModel, param_grid=param_grid, cv=5, scoring='accuracy')\n",
        "grid_search.fit(x,y)\n",
        "\n",
        "print(\"Best Parameters: \", grid_search.best_params_)\n",
        "print(\"Best Score: \", grid_search.best_score_)"
      ],
      "metadata": {
        "colab": {
          "base_uri": "https://localhost:8080/"
        },
        "id": "OEYJJPqjt4b-",
        "outputId": "b0d49b40-f680-4b14-e7a8-a1fab252b7fc"
      },
      "execution_count": null,
      "outputs": [
        {
          "output_type": "stream",
          "name": "stdout",
          "text": [
            "Best Parameters:  {'criterion': 'gini', 'max_depth': 5, 'max_features': 'log2', 'n_estimators': 50}\n",
            "Best Score:  0.873529411764706\n"
          ]
        }
      ]
    },
    {
      "cell_type": "markdown",
      "source": [
        "# **RANDOM FOREST CLASSIFIER**\n",
        "\n",
        "*Random Forest Classifier is one of the most popular Machine Learning algorithms, which comes under the Supervised Learning technique. \n",
        "\n",
        "*It builds decision trees on different samples and takes their majority vote for classification.\n",
        "\n",
        "*One of the most important features of the Random Forest Classifier is that it can handle the data set containing categorical variables in the case of classification."
      ],
      "metadata": {
        "id": "6Cic8yfTxVBT"
      }
    },
    {
      "cell_type": "code",
      "source": [
        "from sklearn.ensemble import RandomForestClassifier\n",
        "rfc = RandomForestClassifier(n_estimators=50, criterion='gini', max_depth=5, max_features='log2')\n",
        "rfc.fit(x_train, y_train)"
      ],
      "metadata": {
        "colab": {
          "base_uri": "https://localhost:8080/",
          "height": 74
        },
        "id": "Zy6knAzft4eM",
        "outputId": "c69100fc-27f1-42fe-f172-cbc832e8ef05"
      },
      "execution_count": null,
      "outputs": [
        {
          "output_type": "execute_result",
          "data": {
            "text/plain": [
              "RandomForestClassifier(max_depth=5, max_features='log2', n_estimators=50)"
            ],
            "text/html": [
              "<style>#sk-container-id-2 {color: black;background-color: white;}#sk-container-id-2 pre{padding: 0;}#sk-container-id-2 div.sk-toggleable {background-color: white;}#sk-container-id-2 label.sk-toggleable__label {cursor: pointer;display: block;width: 100%;margin-bottom: 0;padding: 0.3em;box-sizing: border-box;text-align: center;}#sk-container-id-2 label.sk-toggleable__label-arrow:before {content: \"▸\";float: left;margin-right: 0.25em;color: #696969;}#sk-container-id-2 label.sk-toggleable__label-arrow:hover:before {color: black;}#sk-container-id-2 div.sk-estimator:hover label.sk-toggleable__label-arrow:before {color: black;}#sk-container-id-2 div.sk-toggleable__content {max-height: 0;max-width: 0;overflow: hidden;text-align: left;background-color: #f0f8ff;}#sk-container-id-2 div.sk-toggleable__content pre {margin: 0.2em;color: black;border-radius: 0.25em;background-color: #f0f8ff;}#sk-container-id-2 input.sk-toggleable__control:checked~div.sk-toggleable__content {max-height: 200px;max-width: 100%;overflow: auto;}#sk-container-id-2 input.sk-toggleable__control:checked~label.sk-toggleable__label-arrow:before {content: \"▾\";}#sk-container-id-2 div.sk-estimator input.sk-toggleable__control:checked~label.sk-toggleable__label {background-color: #d4ebff;}#sk-container-id-2 div.sk-label input.sk-toggleable__control:checked~label.sk-toggleable__label {background-color: #d4ebff;}#sk-container-id-2 input.sk-hidden--visually {border: 0;clip: rect(1px 1px 1px 1px);clip: rect(1px, 1px, 1px, 1px);height: 1px;margin: -1px;overflow: hidden;padding: 0;position: absolute;width: 1px;}#sk-container-id-2 div.sk-estimator {font-family: monospace;background-color: #f0f8ff;border: 1px dotted black;border-radius: 0.25em;box-sizing: border-box;margin-bottom: 0.5em;}#sk-container-id-2 div.sk-estimator:hover {background-color: #d4ebff;}#sk-container-id-2 div.sk-parallel-item::after {content: \"\";width: 100%;border-bottom: 1px solid gray;flex-grow: 1;}#sk-container-id-2 div.sk-label:hover label.sk-toggleable__label {background-color: #d4ebff;}#sk-container-id-2 div.sk-serial::before {content: \"\";position: absolute;border-left: 1px solid gray;box-sizing: border-box;top: 0;bottom: 0;left: 50%;z-index: 0;}#sk-container-id-2 div.sk-serial {display: flex;flex-direction: column;align-items: center;background-color: white;padding-right: 0.2em;padding-left: 0.2em;position: relative;}#sk-container-id-2 div.sk-item {position: relative;z-index: 1;}#sk-container-id-2 div.sk-parallel {display: flex;align-items: stretch;justify-content: center;background-color: white;position: relative;}#sk-container-id-2 div.sk-item::before, #sk-container-id-2 div.sk-parallel-item::before {content: \"\";position: absolute;border-left: 1px solid gray;box-sizing: border-box;top: 0;bottom: 0;left: 50%;z-index: -1;}#sk-container-id-2 div.sk-parallel-item {display: flex;flex-direction: column;z-index: 1;position: relative;background-color: white;}#sk-container-id-2 div.sk-parallel-item:first-child::after {align-self: flex-end;width: 50%;}#sk-container-id-2 div.sk-parallel-item:last-child::after {align-self: flex-start;width: 50%;}#sk-container-id-2 div.sk-parallel-item:only-child::after {width: 0;}#sk-container-id-2 div.sk-dashed-wrapped {border: 1px dashed gray;margin: 0 0.4em 0.5em 0.4em;box-sizing: border-box;padding-bottom: 0.4em;background-color: white;}#sk-container-id-2 div.sk-label label {font-family: monospace;font-weight: bold;display: inline-block;line-height: 1.2em;}#sk-container-id-2 div.sk-label-container {text-align: center;}#sk-container-id-2 div.sk-container {/* jupyter's `normalize.less` sets `[hidden] { display: none; }` but bootstrap.min.css set `[hidden] { display: none !important; }` so we also need the `!important` here to be able to override the default hidden behavior on the sphinx rendered scikit-learn.org. See: https://github.com/scikit-learn/scikit-learn/issues/21755 */display: inline-block !important;position: relative;}#sk-container-id-2 div.sk-text-repr-fallback {display: none;}</style><div id=\"sk-container-id-2\" class=\"sk-top-container\"><div class=\"sk-text-repr-fallback\"><pre>RandomForestClassifier(max_depth=5, max_features=&#x27;log2&#x27;, n_estimators=50)</pre><b>In a Jupyter environment, please rerun this cell to show the HTML representation or trust the notebook. <br />On GitHub, the HTML representation is unable to render, please try loading this page with nbviewer.org.</b></div><div class=\"sk-container\" hidden><div class=\"sk-item\"><div class=\"sk-estimator sk-toggleable\"><input class=\"sk-toggleable__control sk-hidden--visually\" id=\"sk-estimator-id-2\" type=\"checkbox\" checked><label for=\"sk-estimator-id-2\" class=\"sk-toggleable__label sk-toggleable__label-arrow\">RandomForestClassifier</label><div class=\"sk-toggleable__content\"><pre>RandomForestClassifier(max_depth=5, max_features=&#x27;log2&#x27;, n_estimators=50)</pre></div></div></div></div></div>"
            ]
          },
          "metadata": {},
          "execution_count": 98
        }
      ]
    },
    {
      "cell_type": "code",
      "source": [
        "y_pred_rfc = rfc.predict(x_test)"
      ],
      "metadata": {
        "id": "Pn6ZMsd0t4gD"
      },
      "execution_count": null,
      "outputs": []
    },
    {
      "cell_type": "markdown",
      "source": [
        "## **EVALUATION METRICS**"
      ],
      "metadata": {
        "id": "hKNenOkIyFfL"
      }
    },
    {
      "cell_type": "code",
      "source": [
        "# Accuracy is the fraction of predictions our model got right. \n",
        "# Accuracy = Number of correct predictions / Total number of predictions.\n",
        "\n",
        "from sklearn.metrics import accuracy_score\n",
        "print('The accuracy of random forest classifier: ', accuracy_score(y_test,y_pred_rfc))"
      ],
      "metadata": {
        "colab": {
          "base_uri": "https://localhost:8080/"
        },
        "id": "0a8Ne4W1t4iC",
        "outputId": "6de1e54d-229d-4219-99c2-b5e170d69769"
      },
      "execution_count": null,
      "outputs": [
        {
          "output_type": "stream",
          "name": "stdout",
          "text": [
            "The accuracy of random forest classifier:  0.8431372549019608\n"
          ]
        }
      ]
    },
    {
      "cell_type": "code",
      "source": [
        "# A confusion matrix is a tabular summary of the number of correct and incorrect predictions made by a classifier.\n",
        "\n",
        "from sklearn.metrics import confusion_matrix\n",
        "print('The confusion matrix of random forest classifier: ', confusion_matrix(y_test,y_pred_rfc))"
      ],
      "metadata": {
        "colab": {
          "base_uri": "https://localhost:8080/"
        },
        "id": "Jk2j9nyht4kW",
        "outputId": "52676833-88e7-4ea1-864f-ca249434ac41"
      },
      "execution_count": null,
      "outputs": [
        {
          "output_type": "stream",
          "name": "stdout",
          "text": [
            "The confusion matrix of random forest classifier:  [[130  28]\n",
            " [  4  42]]\n"
          ]
        }
      ]
    },
    {
      "cell_type": "code",
      "source": [
        "#Classification Report is a evaluation metric in machine learning which is used to show the precision,recall,F1 score, and support score\n",
        "\n",
        "from sklearn.metrics import classification_report\n",
        "print(classification_report(y_test,y_pred_rfc))"
      ],
      "metadata": {
        "colab": {
          "base_uri": "https://localhost:8080/"
        },
        "id": "R5qrHu6zt4mN",
        "outputId": "54e6aff2-c9e6-4129-f9c1-6b3c044123ec"
      },
      "execution_count": null,
      "outputs": [
        {
          "output_type": "stream",
          "name": "stdout",
          "text": [
            "              precision    recall  f1-score   support\n",
            "\n",
            "           0       0.97      0.82      0.89       158\n",
            "           1       0.60      0.91      0.72        46\n",
            "\n",
            "    accuracy                           0.84       204\n",
            "   macro avg       0.79      0.87      0.81       204\n",
            "weighted avg       0.89      0.84      0.85       204\n",
            "\n"
          ]
        }
      ]
    },
    {
      "cell_type": "code",
      "source": [
        "#To identify the most influential feature used for detection\n",
        "from sklearn.ensemble import RandomForestClassifier\n",
        "from sklearn.feature_selection import RFE\n",
        "rfc = RandomForestClassifier()\n",
        "rfe_rf = RFE(estimator=rfc, n_features_to_select=1)\n",
        "\n",
        "# Fit the RFE instance on the data to obtain the most important feature\n",
        "rfe_rf.fit(x, y)\n",
        "\n",
        "# Print the ranking of each feature based on its importance\n",
        "print(\"Feature ranking:\", rfe_rf.ranking_)\n",
        "\n",
        "# Print the name of the most important feature\n",
        "print(\"Most important feature:\", x.columns[rfe_rf.ranking_.argmin()])"
      ],
      "metadata": {
        "colab": {
          "base_uri": "https://localhost:8080/"
        },
        "id": "bzCnnhE9t4od",
        "outputId": "d109b47a-6a56-495e-a740-423541b8721b"
      },
      "execution_count": null,
      "outputs": [
        {
          "output_type": "stream",
          "name": "stdout",
          "text": [
            "Feature ranking: [6 2 4 1 5 3]\n",
            "Most important feature: genetic-category\n"
          ]
        }
      ]
    },
    {
      "cell_type": "code",
      "source": [],
      "metadata": {
        "id": "P8U5Jhpnt4qF"
      },
      "execution_count": null,
      "outputs": []
    },
    {
      "cell_type": "code",
      "source": [],
      "metadata": {
        "id": "45xnvyuFt4sJ"
      },
      "execution_count": null,
      "outputs": []
    },
    {
      "cell_type": "code",
      "source": [],
      "metadata": {
        "id": "XSG0Sj_zt4uM"
      },
      "execution_count": null,
      "outputs": []
    },
    {
      "cell_type": "code",
      "source": [],
      "metadata": {
        "id": "keRuHx6ft4wR"
      },
      "execution_count": null,
      "outputs": []
    },
    {
      "cell_type": "code",
      "source": [],
      "metadata": {
        "id": "wLwM-62Xt4zr"
      },
      "execution_count": null,
      "outputs": []
    }
  ]
}